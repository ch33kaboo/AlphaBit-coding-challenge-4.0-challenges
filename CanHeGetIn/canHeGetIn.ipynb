{
 "cells": [
  {
   "cell_type": "markdown",
   "id": "466e9cd0",
   "metadata": {},
   "source": [
    "# FIRST CHALLENGE"
   ]
  },
  {
   "cell_type": "markdown",
   "id": "af2d948a",
   "metadata": {},
   "source": [
    "## Description    \n",
    "    A train starts his trip from a departure station to an arrival station, and makes stops at each station.\n",
    "    At each station we have the number of passengers that will be abroad once the train resumes its trip.\n",
    "    We want to check if a new passenger is allowed to get into the train,given his boarding and landing stations\n",
    "    - The train can not contain passengers at any moment more then the total number of seats."
   ]
  },
  {
   "cell_type": "markdown",
   "id": "5cdbebcb",
   "metadata": {},
   "source": [
    "## Input\n",
    "    3 lines of input\n",
    "    - n : total number of seats on the train.\n",
    "    - P0 P1 ..... Pi: number of passengers abroad at each station separated by spaces.\n",
    "    - s1 s2 : the number of the boarding and landing stations of the new passenger separated by a space."
   ]
  },
  {
   "cell_type": "markdown",
   "id": "b9c7ed5f",
   "metadata": {},
   "source": [
    "## Output\n",
    "    - boolean : is the passenger allowed or not."
   ]
  },
  {
   "cell_type": "markdown",
   "id": "1ee6e869",
   "metadata": {},
   "source": [
    "## Constraints \n",
    "    - 0 <= s1 < s2 <= i.\n",
    "    - 0 <= p0,p1,p2.... < n."
   ]
  },
  {
   "cell_type": "markdown",
   "id": "00d5cf8b",
   "metadata": {},
   "source": [
    "## Example\n",
    "  ### input\n",
    "    150\n",
    "    130 89 150 73 78 100 122 0\n",
    "    3 6\n",
    "  ### output\n",
    "    true"
   ]
  },
  {
   "cell_type": "markdown",
   "id": "485965ce",
   "metadata": {},
   "source": [
    "# Solution"
   ]
  },
  {
   "cell_type": "markdown",
   "id": "2a4acb71",
   "metadata": {},
   "source": [
    "## python"
   ]
  },
  {
   "cell_type": "code",
   "execution_count": 8,
   "id": "2928a039",
   "metadata": {},
   "outputs": [],
   "source": [
    "def isPossible(n, p, s):\n",
    "    for i in p[s[0]:s[1]]:\n",
    "        if(i==n) : \n",
    "            return False\n",
    "    return True"
   ]
  },
  {
   "cell_type": "code",
   "execution_count": 17,
   "id": "2ff5f5f1",
   "metadata": {},
   "outputs": [
    {
     "name": "stdout",
     "output_type": "stream",
     "text": [
      "True\n",
      "time in seconds:  0.0004918575286865234\n"
     ]
    }
   ],
   "source": [
    "import time\n",
    "start = time.time()\n",
    "n = '150'\n",
    "p = '130 89 140 73 78 100 150 150 150 150 64 3 0'\n",
    "s = '0 6'\n",
    "n = int(n)\n",
    "p = list(map(int, p.split(\" \")))\n",
    "s = list(map(int, s.split(\" \")))\n",
    "\n",
    "print(isPossible(n,p,s))\n",
    "print(\"time in seconds: \", time.time()-start)"
   ]
  },
  {
   "cell_type": "markdown",
   "id": "eba09862",
   "metadata": {},
   "source": [
    "## javascript"
   ]
  },
  {
   "cell_type": "code",
   "execution_count": null,
   "id": "c140529b",
   "metadata": {},
   "outputs": [],
   "source": [
    "const isPossible= (n,p,s) => {\n",
    "    for(e of p.slice(s[0], s[1])) if(e>=n) return false\n",
    "    return true\n",
    "}"
   ]
  },
  {
   "cell_type": "code",
   "execution_count": null,
   "id": "e46649e1",
   "metadata": {},
   "outputs": [],
   "source": [
    "let start = performance.now();\n",
    "n = '150'\n",
    "p = \"130 89 150 73 78 100 122 150 150 150 64 3 0 71\"\n",
    "s = '0 6'\n",
    "n = +n; //transforms to int\n",
    "p = p.split(\" \").map((e)=>+e);\n",
    "s = s.split(\" \").map((e)=>+e);\n",
    "\n",
    "console.log(isPossible(n,p,s));\n",
    "console.log(\"time in seconds: \", (performance.now() - start)/1000)"
   ]
  },
  {
   "cell_type": "code",
   "execution_count": null,
   "id": "30a85500",
   "metadata": {},
   "outputs": [],
   "source": [
    "false\n",
    "time in miliseconds:  0.0034571719989180565"
   ]
  }
 ],
 "metadata": {
  "kernelspec": {
   "display_name": "Python 3 (ipykernel)",
   "language": "python",
   "name": "python3"
  },
  "language_info": {
   "codemirror_mode": {
    "name": "ipython",
    "version": 3
   },
   "file_extension": ".py",
   "mimetype": "text/x-python",
   "name": "python",
   "nbconvert_exporter": "python",
   "pygments_lexer": "ipython3",
   "version": "3.9.13"
  }
 },
 "nbformat": 4,
 "nbformat_minor": 5
}
