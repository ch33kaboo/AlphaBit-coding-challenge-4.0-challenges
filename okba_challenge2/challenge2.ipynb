{
 "cells": [
  {
   "attachments": {},
   "cell_type": "markdown",
   "metadata": {
    "id": "MIcbohAF24w7"
   },
   "source": [
    "# Challenge: Unify my volumes. \n",
    "By ALLAOUA Okba."
   ]
  },
  {
   "cell_type": "markdown",
   "metadata": {
    "id": "gUSwNxWM24xD"
   },
   "source": [
    "## Description:"
   ]
  },
  {
   "attachments": {},
   "cell_type": "markdown",
   "metadata": {
    "id": "viTP_3Pr24xE"
   },
   "source": [
    "> A simple paragraph describing the general idea of the challenge.\n",
    "\n",
    "In this challenge, the goal is to convert a string of a data volumes `b`/`B`/`KB`/`MB`/`GB`/`TB`/`Kb`/`Mb`/`Gb`/`Tb` separates with white spaces to an array of each volume converted to the unit byte `B`.\n",
    "\n",
    "-You find bellow the notation:\n",
    "\n",
    "\n",
    "    `B`: stands for Byte.\n",
    "    `b`: stands for bit.\n",
    "    `K`: stands for kilo.\n",
    "    `M`: stands for mega.\n",
    "    `G`: stands for giga.\n",
    "    `T`: stands for tera.\n",
    "\n",
    "    \n",
    "- the units `K`/`M`/`G`/`T` can be written in capital or small letters."
   ]
  },
  {
   "cell_type": "markdown",
   "metadata": {
    "id": "k6dkVaMt24xE"
   },
   "source": [
    "## Examples:"
   ]
  },
  {
   "attachments": {},
   "cell_type": "markdown",
   "metadata": {
    "id": "Zz15KBa124xF"
   },
   "source": [
    "> Some examples:\n",
    "\n",
    " - '1500Kb 49b 48MB' => [1536000, 6.125, 50331648]\n",
    " - '19B 2Tb 18Kb 10GB' => [19, 274877906944, 2304, 10737418240]\n",
    " - '5mB 1tb 16kB 91gb' => [5242880, 137438953472, 16384, 12213813248]\n",
    " - '13GB 13gb 1b 1B' => [13958643712, 1744830464, 0.125, 1]\n"
   ]
  },
  {
   "cell_type": "markdown",
   "metadata": {
    "id": "YGG4x1mL24xF"
   },
   "source": [
    "## Solutions:"
   ]
  },
  {
   "cell_type": "markdown",
   "metadata": {
    "id": "sA3jyTM924xF"
   },
   "source": [
    "### The stupid solution: (Unoptimized)"
   ]
  },
  {
   "attachments": {},
   "cell_type": "markdown",
   "metadata": {
    "id": "Z9xwTv1s24xF"
   },
   "source": [
    "> Giving the simple 'unoptimized' solution:\n",
    "\n",
    "The obvious (and stupid) solution is to start using `if/else` blocks and some `switches`, it's not false but it's not optimized at all.\n",
    "\n",
    "    The method in general is to split the string based on the white spaces into an array of string, then we iterate using the for loop throght each sub string and we check:\n",
    "    \n",
    "        1- we first check if it has a `b` then:\n",
    "            it's a bit so we continue to assure if the before last character of the string is a number or a char, if it's a number:\n",
    "                we convert it into number and we mutiply on `* 1/8`\n",
    "            else:\n",
    "                build a switch of cases `K`|`M`|`G`|`T` and directly convert to the unit found where we multiply on `* 1/8` and `2^(10|20|30|40)`, we push the value calculated to the array returned without forgeting to convert to Number before start calculating.\n",
    "        2- else:\n",
    "            it means it's a byte and we will re do the same thing on the first block part."
   ]
  },
  {
   "cell_type": "code",
   "execution_count": 1,
   "metadata": {
    "id": "HfL8bG-624xG",
    "vscode": {
     "languageId": "javascript"
    }
   },
   "outputs": [],
   "source": [
    "function stupid (str) {\n",
    "    let arr = [];\n",
    "    \n",
    "    str.split(' ').forEach((ele) => {\n",
    "        const beforeLastChar = ele.charCodeAt(ele.length-2);\n",
    "        if (ele.includes('b')){//if it's a bit\n",
    "            if (beforeLastChar>=48 && beforeLastChar<=57) { \n",
    "                arr.push(Number.parseInt(ele.slice(0, -1)) / 8); //check the before last character if it's K/G/T/K or number\n",
    "            } else {\n",
    "                switch (ele[ele.length-2].toUpperCase()) {\n",
    "                    case 'K'://kilo\n",
    "                        arr.push(2**10 * Number.parseInt(ele.slice(0, -2)) * 1/8);\n",
    "                        break;\n",
    "                        \n",
    "                    case 'M'://mega\n",
    "                        arr.push(2**20 * Number.parseInt(ele.slice(0, -2)) * 1/8);\n",
    "                        break;\n",
    "    \n",
    "                    case 'G'://giga\n",
    "                        arr.push(2**30 * Number.parseInt(ele.slice(0, -2)) * 1/8);\n",
    "                        break;\n",
    "    \n",
    "                    case 'T'://tera\n",
    "                        arr.push(2**40 * Number.parseInt(ele.slice(0, -2)) * 1/8);\n",
    "                        break;\n",
    "                }\n",
    "            }\n",
    "        } else { //it's a byte\n",
    "            if (beforeLastChar>=48 && beforeLastChar<=57) { \n",
    "                arr.push(Number.parseInt(ele.slice(0, -1))); //check the before last character if it's K/G/T/K or number\n",
    "            } else {\n",
    "                switch (ele[ele.length-2].toUpperCase()) {\n",
    "                    case 'K'://kilo\n",
    "                        arr.push(2**10 * Number.parseInt(ele.slice(0, -2)));\n",
    "                        break;\n",
    "                        \n",
    "                    case 'M'://mega\n",
    "                        arr.push(2**20 * Number.parseInt(ele.slice(0, -2)));\n",
    "                        break;\n",
    "    \n",
    "                    case 'G'://giga\n",
    "                        arr.push(2**30 * Number.parseInt(ele.slice(0, -2)));\n",
    "                        break;\n",
    "    \n",
    "                    case 'T'://tera\n",
    "                        arr.push(2**40 * Number.parseInt(ele.slice(0, -2)));\n",
    "                        break;\n",
    "                }\n",
    "            }\n",
    "        }\n",
    "    });\n",
    "\n",
    "    return arr;\n",
    "}"
   ]
  },
  {
   "cell_type": "code",
   "execution_count": 2,
   "metadata": {
    "colab": {
     "base_uri": "https://localhost:8080/"
    },
    "id": "_ku1YyY224xG",
    "outputId": "26e6f068-6d31-4f34-c560-a6f37ae4fa18",
    "vscode": {
     "languageId": "javascript"
    }
   },
   "outputs": [
    {
     "data": {
      "text/plain": [
       "15"
      ]
     },
     "execution_count": 2,
     "metadata": {},
     "output_type": "execute_result"
    }
   ],
   "source": [
    "console.log(stupid('1500Kb 49b 48MB'));"
   ]
  },
  {
   "cell_type": "code",
   "execution_count": 3,
   "metadata": {
    "colab": {
     "base_uri": "https://localhost:8080/"
    },
    "id": "k-stWaQP24xH",
    "outputId": "8ac2a206-265a-4d1c-a722-27423fc7fec0",
    "vscode": {
     "languageId": "javascript"
    }
   },
   "outputs": [
    {
     "data": {
      "text/plain": [
       "36"
      ]
     },
     "execution_count": 3,
     "metadata": {
      "tags": []
     },
     "output_type": "execute_result"
    }
   ],
   "source": [
    "console.log(stupid('19B 2Tb 18Kb 10GB'));"
   ]
  },
  {
   "cell_type": "markdown",
   "metadata": {
    "id": "8SsZ1hOY24xI"
   },
   "source": [
    "## The solution:"
   ]
  },
  {
   "attachments": {},
   "cell_type": "markdown",
   "metadata": {
    "id": "D6I9AdPT24xI"
   },
   "source": [
    "> Giving the right 'optimized' solution:\n",
    "\n",
    "To avoid using many `if` and `switches`, we should use the three varaibles to detect all the cases of our strings:\n",
    "\n",
    "`stringValue`: the numiric value slices from the sub string iterated.\n",
    "\n",
    "`convertCoefficient`: the conversion value from `K`|`M`|`G`|`T` to `B` if needed else it is 1.\n",
    "\n",
    "`isBit`: boolean value to detect if the sub string iterated is a bit `true` or a byte `false`.\n",
    "\n",
    "we all agree that we will split the String based on the white spaces into an array of sub strings, and we iterate throught the strings on each iteration we assign `isBit` value directly to the logical statment `String.includes('b')`, the `stringValue` to the converted from string to number value without the unit, `convertCoefficient` is calculated based on the switch `K`|`M`|`G`|`T`, it can have `2^(10|20|30|40)`, and we apply the formula:"
   ]
  },
  {
   "attachments": {},
   "cell_type": "markdown",
   "metadata": {
    "id": "k_cnmknO24xI"
   },
   "source": [
    "$$byteValue = stringValue * convertCoefficient * ((isBit)\\space?\\space 1/8 : 1) $$"
   ]
  },
  {
   "cell_type": "code",
   "execution_count": 4,
   "metadata": {
    "id": "XcqKRQ2l24xJ",
    "vscode": {
     "languageId": "javascript"
    }
   },
   "outputs": [],
   "source": [
    "function optimal(str) {\n",
    "    let isBit; //false bit, true byte\n",
    "    let convertCoefficient; //depends if it's giga, tera, ...\n",
    "    let stringValue; //string value parsed to integer\n",
    "    let arr = [];\n",
    "\n",
    "    str.split(' ').forEach((ele) => {\n",
    "        convertCoefficient = 1;\n",
    "        stringValue = 0;\n",
    "        isBit = ele.includes('b'); //if it's a bit true else false it's a byte\n",
    "        const beforeLastChar = ele.charCodeAt(ele.length-2);\n",
    "        if (!(beforeLastChar>=48 && beforeLastChar<=57)) { //check the before last character if it's K/G/T/K or number\n",
    "            stringValue = Number.parseInt(ele.slice(0, -2));\n",
    "            switch (ele[ele.length-2].toUpperCase()) {\n",
    "                case 'K'://kilo\n",
    "                    convertCoefficient = 2**10;\n",
    "                    break;\n",
    "                    \n",
    "                case 'M'://mega\n",
    "                    convertCoefficient = 2**20;\n",
    "                    break;\n",
    "\n",
    "                case 'G'://giga\n",
    "                    convertCoefficient = 2**30;\n",
    "                    break;\n",
    "\n",
    "                case 'T'://tera\n",
    "                    convertCoefficient = 2**40;\n",
    "                    break;\n",
    "            } \n",
    "        } else {\n",
    "            stringValue = Number.parseInt(ele.slice(0, -1));\n",
    "        }\n",
    "        arr.push((isBit) ? convertCoefficient * stringValue * 1/8 : convertCoefficient * stringValue);\n",
    "    })  \n",
    "      \n",
    "    return arr;\n",
    "}"
   ]
  },
  {
   "cell_type": "code",
   "execution_count": null,
   "metadata": {
    "colab": {
     "base_uri": "https://localhost:8080/"
    },
    "id": "MuZ5GTzZ24xJ",
    "outputId": "d133bbdb-c3b9-4405-f2b6-c525e42925c2",
    "vscode": {
     "languageId": "javascript"
    }
   },
   "outputs": [],
   "source": [
    "console.log(optimal('19B 2Tb 18Kb 10GB'));"
   ]
  },
  {
   "cell_type": "code",
   "execution_count": null,
   "metadata": {
    "colab": {
     "base_uri": "https://localhost:8080/"
    },
    "id": "vsdJytHt24xJ",
    "outputId": "94708714-382f-4798-d80c-cc6050afea81",
    "vscode": {
     "languageId": "javascript"
    }
   },
   "outputs": [],
   "source": [
    "console.log(optimal('1500Kb 49b 48MB'));"
   ]
  },
  {
   "cell_type": "markdown",
   "metadata": {
    "id": "PWDrurp224xK"
   },
   "source": [
    "## Testing execution time:"
   ]
  },
  {
   "attachments": {},
   "cell_type": "markdown",
   "metadata": {
    "id": "1ARsdHaB24xL"
   },
   "source": [
    "> In this part, we compare the stupid and the right solution in execution time:\n",
    "\n",
    " - volumes = '19B 2Tb 18Kb 10GB'"
   ]
  },
  {
   "cell_type": "code",
   "execution_count": null,
   "metadata": {
    "id": "vaLrmPXM24xL",
    "vscode": {
     "languageId": "javascript"
    }
   },
   "outputs": [],
   "source": [
    "let volumes = '19B 2Tb 18Kb 10GB';"
   ]
  },
  {
   "cell_type": "markdown",
   "metadata": {
    "id": "HQ9I9vJg24xL"
   },
   "source": [
    "### The stupid solution:"
   ]
  },
  {
   "cell_type": "code",
   "execution_count": null,
   "metadata": {
    "colab": {
     "base_uri": "https://localhost:8080/"
    },
    "id": "JYjHAqpW24xL",
    "outputId": "f90374b4-feff-486e-9214-facdcb46cb42",
    "vscode": {
     "languageId": "javascript"
    }
   },
   "outputs": [],
   "source": [
    "let startTime = performance.now();\n",
    "console.log(stupid(volumes));\n",
    "let endTime = performance.now();\n",
    "console.log(`it took ${endTime - startTime} milliseconds`);"
   ]
  },
  {
   "attachments": {},
   "cell_type": "markdown",
   "metadata": {
    "id": "U5EqD0ki24xM"
   },
   "source": [
    "### The correct (optimal) solution:"
   ]
  },
  {
   "cell_type": "code",
   "execution_count": null,
   "metadata": {
    "colab": {
     "base_uri": "https://localhost:8080/"
    },
    "id": "ZGwighTV24xM",
    "outputId": "b73fab13-9529-4696-988b-9032a123c2ff",
    "vscode": {
     "languageId": "javascript"
    }
   },
   "outputs": [],
   "source": [
    "let startTime = performance.now();\n",
    "console.log(optimal(volumes));\n",
    "let endTime = performance.now();\n",
    "console.log(`it took ${endTime - startTime} milliseconds`);"
   ]
  }
 ],
 "metadata": {
  "colab": {
   "collapsed_sections": [],
   "name": "example.ipynb",
   "provenance": []
  },
  "kernelspec": {
   "display_name": "Python 3",
   "language": "python",
   "name": "python3"
  },
  "language_info": {
   "codemirror_mode": {
    "name": "ipython",
    "version": 3
   },
   "file_extension": ".py",
   "mimetype": "text/x-python",
   "name": "python",
   "nbconvert_exporter": "python",
   "pygments_lexer": "ipython3",
   "version": "3.10.7"
  },
  "vscode": {
   "interpreter": {
    "hash": "e7370f93d1d0cde622a1f8e1c04877d8463912d04d973331ad4851f04de6915a"
   }
  }
 },
 "nbformat": 4,
 "nbformat_minor": 4
}
