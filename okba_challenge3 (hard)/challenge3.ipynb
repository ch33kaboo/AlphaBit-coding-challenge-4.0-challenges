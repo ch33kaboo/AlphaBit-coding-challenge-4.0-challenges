{
 "cells": [
  {
   "attachments": {},
   "cell_type": "markdown",
   "metadata": {
    "id": "MIcbohAF24w7"
   },
   "source": [
    "# Challenge: R wela 1/R. \n",
    "By ALLAOUA Okba."
   ]
  },
  {
   "attachments": {},
   "cell_type": "markdown",
   "metadata": {
    "id": "gUSwNxWM24xD"
   },
   "source": [
    "## Description:"
   ]
  },
  {
   "attachments": {},
   "cell_type": "markdown",
   "metadata": {
    "id": "viTP_3Pr24xE"
   },
   "source": [
    "Kratos, the God of War, has been tasked with a circuit analysis challenge. His goal is to determine the equivalent resistance value of a circuit composed of resistors connected in series and parallel. The circuit is represented as a string of resistor values, and the following notations are used:\n",
    "\n",
    "    `[]`: Indicates that all the available resistors are connected in parallel.\n",
    "    `()`: Indicates that all the available resistors are connected in series.\n",
    "\n",
    "    `The equivalent resistance value for resistors connected in series`: is calculated as follows: Req = R1 + R2 + ... + Rn.\n",
    "    `The equivalent resistance value for resistors connected in parallel`: is calculated as follows: 1/Req = 1/R1 + 1/R2 + ... + 1/Rn.\n",
    "\n",
    "Note that all resistance values are positive and expressed in ohms and fixed with two digits after the `,` in float cases.\n",
    "\n",
    "Kratos must use his expertise in circuit analysis to compute the equivalent resistance value of the circuit. Will he succeed and emerge victorious once again?"
   ]
  },
  {
   "attachments": {},
   "cell_type": "markdown",
   "metadata": {
    "id": "k6dkVaMt24xE"
   },
   "source": [
    "## Examples:"
   ]
  },
  {
   "attachments": {},
   "cell_type": "markdown",
   "metadata": {
    "id": "Zz15KBa124xF"
   },
   "source": [
    "> Some examples:\n",
    "\n",
    " - '(10, [20, 30])' => 22.00\n",
    " - '((5, [10, 2]), ([20, 30], 10, [20, 40]))' => 42.00\n",
    " - '(10, 5, 16, [(16, 14), [(15, 10), 5]])' => 34.66\n",
    " - '(5, 8, 9, [10, 24])' => 29.06\n"
   ]
  },
  {
   "attachments": {},
   "cell_type": "markdown",
   "metadata": {
    "id": "YGG4x1mL24xF"
   },
   "source": [
    "## Solutions:"
   ]
  },
  {
   "attachments": {},
   "cell_type": "markdown",
   "metadata": {
    "id": "sA3jyTM924xF"
   },
   "source": [
    "### The less optimized solution: (Unoptimized)"
   ]
  },
  {
   "attachments": {},
   "cell_type": "markdown",
   "metadata": {
    "id": "Z9xwTv1s24xF"
   },
   "source": [
    "> Giving the simple 'unoptimized' solution:\n",
    "\n",
    "The unoptimized solution is to use recrusion, we convert the string to an array, the time we have a `(` we add a `s` character to the array to indicate that this is a `serie` method and then we loop the array everytime we find the same case at the end we conver the string into a real array and we loop throught it, the time we find the `s` it means the next operation is serie and not parallel else if it's a number we add it to the total else we make a recrustion call since we're on the new sub array to work with untill we finish. "
   ]
  },
  {
   "cell_type": "code",
   "execution_count": 1,
   "metadata": {
    "id": "HfL8bG-624xG",
    "vscode": {
     "languageId": "javascript"
    }
   },
   "outputs": [],
   "source": [
    "function calceRes(str) {\n",
    "\tlet isSerie = false;\n",
    "\ttotal = 0;\n",
    "\tfor (i in str) {\n",
    "\t\ti = str[i];\n",
    "\t\tif (i == \"s\") {\n",
    "\t\t\tisSerie = true;\n",
    "\t\t}\n",
    "\t\telse if (typeof(i) == \"number\"){\n",
    "\t\t\ttotal += isSerie ? i : 1 / i;\n",
    "\t\t}\n",
    "\t\telse {\n",
    "\t\t\ttotal += isSerie ? calceRes(i) : 1 / calceRes(i);\n",
    "\t\t}\n",
    "\t}\t\n",
    "\treturn isSerie ? total : 1 / total;\n",
    "}\n",
    "\n",
    "function stupid(str) {\n",
    "\treturn calceRes(JSON.parse(str.split(\"(\").join(\"[\\\"s\\\", \").split(\")\").join(\"]\")));\n",
    "}"
   ]
  },
  {
   "cell_type": "code",
   "execution_count": 2,
   "metadata": {
    "colab": {
     "base_uri": "https://localhost:8080/"
    },
    "id": "_ku1YyY224xG",
    "outputId": "26e6f068-6d31-4f34-c560-a6f37ae4fa18",
    "vscode": {
     "languageId": "javascript"
    }
   },
   "outputs": [
    {
     "data": {
      "text/plain": [
       "15"
      ]
     },
     "execution_count": 2,
     "metadata": {},
     "output_type": "execute_result"
    }
   ],
   "source": [
    "console.log(stupid('(5, 8, 9, [10, 24])'));"
   ]
  },
  {
   "cell_type": "code",
   "execution_count": 3,
   "metadata": {
    "colab": {
     "base_uri": "https://localhost:8080/"
    },
    "id": "k-stWaQP24xH",
    "outputId": "8ac2a206-265a-4d1c-a722-27423fc7fec0",
    "vscode": {
     "languageId": "javascript"
    }
   },
   "outputs": [
    {
     "data": {
      "text/plain": [
       "36"
      ]
     },
     "execution_count": 3,
     "metadata": {
      "tags": []
     },
     "output_type": "execute_result"
    }
   ],
   "source": [
    "console.log(stupid('(15, 24, [15, (5, 6)])'));"
   ]
  },
  {
   "attachments": {},
   "cell_type": "markdown",
   "metadata": {
    "id": "8SsZ1hOY24xI"
   },
   "source": [
    "## The solution:"
   ]
  },
  {
   "attachments": {},
   "cell_type": "markdown",
   "metadata": {
    "id": "D6I9AdPT24xI"
   },
   "source": [
    "> Giving the right 'optimized' solution:\n",
    "\n",
    "We should clearify our string where we `replace` globally each `()` with the `serie` function and the `[]` with the `parallel` function and then we create the `serie` and `parallel` function using javascript `redure` method and we calculate the string we have using the `eval` method that execute the strings directly."
   ]
  },
  {
   "cell_type": "code",
   "execution_count": 4,
   "metadata": {
    "id": "XcqKRQ2l24xJ",
    "vscode": {
     "languageId": "javascript"
    }
   },
   "outputs": [],
   "source": [
    "function optimal(net) {\n",
    "\tconst serie = (...args) => args.reduce((acc,cur) => acc + cur, 0);\n",
    "\tconst parallel = (...args) => 1 / (args.reduce((acc, cur) => acc + 1/cur, 0));\n",
    "\n",
    "\treturn eval(net.replace(/\\(/g, 'serie(').replace(/\\[/g, 'parallel(').replace(/\\]/g, ')'));\n",
    "}"
   ]
  },
  {
   "cell_type": "code",
   "execution_count": null,
   "metadata": {
    "colab": {
     "base_uri": "https://localhost:8080/"
    },
    "id": "MuZ5GTzZ24xJ",
    "outputId": "d133bbdb-c3b9-4405-f2b6-c525e42925c2",
    "vscode": {
     "languageId": "javascript"
    }
   },
   "outputs": [],
   "source": [
    "console.log(optimal('(5, 8, 9, [10, 24])').toFixed(2));"
   ]
  },
  {
   "cell_type": "code",
   "execution_count": null,
   "metadata": {
    "colab": {
     "base_uri": "https://localhost:8080/"
    },
    "id": "vsdJytHt24xJ",
    "outputId": "94708714-382f-4798-d80c-cc6050afea81",
    "vscode": {
     "languageId": "javascript"
    }
   },
   "outputs": [],
   "source": [
    "console.log(optimal('(15, 24, [15, (5, 6)])').toFixed(2));"
   ]
  },
  {
   "attachments": {},
   "cell_type": "markdown",
   "metadata": {
    "id": "PWDrurp224xK"
   },
   "source": [
    "## Testing execution time:"
   ]
  },
  {
   "attachments": {},
   "cell_type": "markdown",
   "metadata": {
    "id": "1ARsdHaB24xL"
   },
   "source": [
    "> In this part, we compare the stupid and the right solution in execution time:\n",
    "\n",
    " - resistances = '(5, 8, 9, [10, 24])'"
   ]
  },
  {
   "cell_type": "code",
   "execution_count": null,
   "metadata": {
    "id": "vaLrmPXM24xL",
    "vscode": {
     "languageId": "javascript"
    }
   },
   "outputs": [],
   "source": [
    "let resistances = '(5, 8, 9, [10, 24])'"
   ]
  },
  {
   "attachments": {},
   "cell_type": "markdown",
   "metadata": {
    "id": "HQ9I9vJg24xL"
   },
   "source": [
    "### The less optimal solution (I don't call it stupid):"
   ]
  },
  {
   "cell_type": "code",
   "execution_count": null,
   "metadata": {
    "colab": {
     "base_uri": "https://localhost:8080/"
    },
    "id": "JYjHAqpW24xL",
    "outputId": "f90374b4-feff-486e-9214-facdcb46cb42",
    "vscode": {
     "languageId": "javascript"
    }
   },
   "outputs": [],
   "source": [
    "let startTime = performance.now();\n",
    "console.log(stupid(resistances));\n",
    "let endTime = performance.now();\n",
    "console.log(`it took ${endTime - startTime} milliseconds`)"
   ]
  },
  {
   "attachments": {},
   "cell_type": "markdown",
   "metadata": {
    "id": "U5EqD0ki24xM"
   },
   "source": [
    "### The correct (optimal) solution:"
   ]
  },
  {
   "cell_type": "code",
   "execution_count": null,
   "metadata": {
    "colab": {
     "base_uri": "https://localhost:8080/"
    },
    "id": "ZGwighTV24xM",
    "outputId": "b73fab13-9529-4696-988b-9032a123c2ff",
    "vscode": {
     "languageId": "javascript"
    }
   },
   "outputs": [],
   "source": [
    "let startTime = performance.now();\n",
    "console.log(optimal(resistances));\n",
    "let endTime = performance.now();\n",
    "console.log(`it took ${endTime - startTime} milliseconds`)"
   ]
  }
 ],
 "metadata": {
  "colab": {
   "collapsed_sections": [],
   "name": "example.ipynb",
   "provenance": []
  },
  "kernelspec": {
   "display_name": "Python 3",
   "language": "python",
   "name": "python3"
  },
  "language_info": {
   "codemirror_mode": {
    "name": "ipython",
    "version": 3
   },
   "file_extension": ".py",
   "mimetype": "text/x-python",
   "name": "python",
   "nbconvert_exporter": "python",
   "pygments_lexer": "ipython3",
   "version": "3.10.7"
  },
  "vscode": {
   "interpreter": {
    "hash": "e7370f93d1d0cde622a1f8e1c04877d8463912d04d973331ad4851f04de6915a"
   }
  }
 },
 "nbformat": 4,
 "nbformat_minor": 4
}
