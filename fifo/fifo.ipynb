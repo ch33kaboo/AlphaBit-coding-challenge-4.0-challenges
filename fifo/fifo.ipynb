{
 "cells": [
  {
   "attachments": {},
   "cell_type": "markdown",
   "metadata": {
    "id": "MIcbohAF24w7"
   },
   "source": [
    "# Challenge Example: Cache eviction algorithms (FIFO)"
   ]
  },
  {
   "cell_type": "markdown",
   "metadata": {
    "id": "gUSwNxWM24xD"
   },
   "source": [
    "## Description:"
   ]
  },
  {
   "attachments": {},
   "cell_type": "markdown",
   "metadata": {
    "id": "viTP_3Pr24xE"
   },
   "source": [
    "> given a cache/storage box with maximum size of `M` and we want to insert `n` items, the goal is to store them sequentially and make sure the last item is stored.\n",
    "\n",
    "if an item can't be inserted due to size constraint delete oldest items until there is enough space to store current item.\n",
    "\n",
    "In this challenge, the goal is to give the final occupied size of the cache, and the index of the oldest item (first item is 0, second item 1, ...)\n",
    "\n",
    " - M: [1, 1000]\n",
    " - n: [1, 20]\n",
    " - n_i: [1, M]"
   ]
  },
  {
   "attachments": {},
   "cell_type": "markdown",
   "metadata": {},
   "source": [
    "### Input\n",
    "\n",
    "- first line : `M` the size of the cache\n",
    "- second line : `n` n item to be inserted separated by space, value represents the item's size\n",
    "\n",
    "### Output\n",
    "- first line : current occupied size of the cache\n",
    "- second line : index of oldest item"
   ]
  },
  {
   "cell_type": "markdown",
   "metadata": {
    "id": "k6dkVaMt24xE"
   },
   "source": [
    "## Examples:"
   ]
  },
  {
   "attachments": {},
   "cell_type": "markdown",
   "metadata": {
    "id": "Zz15KBa124xF"
   },
   "source": [
    "#### Input\n",
    "\n",
    "```\n",
    "1000\n",
    "100 200 300 400 500\n",
    "```\n",
    "\n",
    "#### Output\n",
    "```\n",
    "900\n",
    "3\n",
    "```"
   ]
  },
  {
   "cell_type": "markdown",
   "metadata": {
    "id": "YGG4x1mL24xF"
   },
   "source": [
    "## Solutions:"
   ]
  },
  {
   "cell_type": "code",
   "execution_count": 1,
   "metadata": {
    "id": "HfL8bG-624xG"
   },
   "outputs": [
    {
     "data": {
      "text/plain": [
       "[900, 3]"
      ]
     },
     "execution_count": 1,
     "metadata": {},
     "output_type": "execute_result"
    }
   ],
   "source": [
    "def cache_fifo(max_size, items):\n",
    "    occupied_size = 0\n",
    "    oldest_item_index = 0\n",
    "    for item in items:\n",
    "        while (occupied_size + item > max_size):\n",
    "            occupied_size -= items[oldest_item_index]\n",
    "            oldest_item_index += 1\n",
    "        \n",
    "        occupied_size += item\n",
    "\n",
    "    return [occupied_size, oldest_item_index]\n",
    "# test\n",
    "M = 1000\n",
    "items = [100, 200, 300, 400, 500]\n",
    "cache_fifo(M, items)"
   ]
  }
 ],
 "metadata": {
  "colab": {
   "collapsed_sections": [],
   "name": "example.ipynb",
   "provenance": []
  },
  "kernelspec": {
   "display_name": "Python 3",
   "language": "python",
   "name": "python3"
  },
  "language_info": {
   "codemirror_mode": {
    "name": "ipython",
    "version": 3
   },
   "file_extension": ".py",
   "mimetype": "text/x-python",
   "name": "python",
   "nbconvert_exporter": "python",
   "pygments_lexer": "ipython3",
   "version": "3.10.10"
  },
  "vscode": {
   "interpreter": {
    "hash": "767d51c1340bd893661ea55ea3124f6de3c7a262a8b4abca0554b478b1e2ff90"
   }
  }
 },
 "nbformat": 4,
 "nbformat_minor": 4
}
