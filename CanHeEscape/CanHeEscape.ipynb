{
 "cells": [
  {
   "cell_type": "markdown",
   "id": "466e9cd0",
   "metadata": {},
   "source": [
    "# FIRST CHALLENGE"
   ]
  },
  {
   "cell_type": "markdown",
   "id": "af2d948a",
   "metadata": {},
   "source": [
    "## Description    \n",
    "    Imagine you are trapped in a maze and you need to find your way out. The maze is represented by a grid of walls, with open spaces. Given an initial position, your goal is to navigate through the maze and find the exit, which is located at one of the edges of the maze. We represent the maze with a matrix of 1 and 0, 1 for a free path and 0 for wall. Possible escape are cellules in the matrix that contains 1."
   ]
  },
  {
   "cell_type": "markdown",
   "id": "5cdbebcb",
   "metadata": {},
   "source": [
    "## Input\n",
    "    5 lines of input\n",
    "    - n_row : number of rows of the maze.\n",
    "    - n_col : number of columns of the maze.\n",
    "    - input_maze : a string representation of the matrix, read row by row.\n",
    "    - x0 : the row of the initial position.\n",
    "    - y0 : the column of the initial position"
   ]
  },
  {
   "cell_type": "markdown",
   "id": "f04efdb5",
   "metadata": {},
   "source": [
    "## Output\n",
    "    - string representation of the escape path 'X0,Y0-X1,Y1-X2,Y2.....' .\n"
   ]
  },
  {
   "cell_type": "markdown",
   "id": "1ee6e869",
   "metadata": {},
   "source": [
    "## Constraints \n",
    "    - There is one escape at most.\n",
    "    - 0 <= x0 < n_nrow.\n",
    "    - 0 <= yo < n_col.\n",
    "    - x0, y0 is a free position."
   ]
  },
  {
   "cell_type": "markdown",
   "id": "00d5cf8b",
   "metadata": {},
   "source": [
    "## Example\n",
    "  ### Input\n",
    "    5\n",
    "    6\n",
    "    0 0 1 0 1 1 0 1 0 1 0 1 0 0 1 1 0 0 0 1 1 0 0 1 0 1 0 0 1 0\n",
    "    2\n",
    "    3\n",
    "  ### Actual Maze\n",
    "    0 0 1 0 1 1\n",
    "    0 1 0 1 0 1\n",
    "    0 0 1 1 0 0\n",
    "    0 1 1 0 0 1\n",
    "    0 1 0 0 1 0\n",
    "  ### Output\n",
    "    2,3-2,2-3,2-3,1-4,1"
   ]
  },
  {
   "cell_type": "markdown",
   "id": "485965ce",
   "metadata": {},
   "source": [
    "# Solution"
   ]
  },
  {
   "cell_type": "markdown",
   "id": "2a4acb71",
   "metadata": {},
   "source": [
    "## python"
   ]
  },
  {
   "cell_type": "code",
   "execution_count": 2,
   "id": "2928a039",
   "metadata": {},
   "outputs": [],
   "source": [
    "def findEscape(x:int ,y:int):\n",
    "    visit[x][y] = 1\n",
    "\n",
    "    if((x==0)or(x==n_row-1)or(y==0)or(y==n_col-1)): #check if current position is possible escape\n",
    "        return f\"{x},{y}\"\n",
    "\n",
    "    if(maze[x-1][y]==\"1\" and visit[x-1][y]==0 ): #check if element on top is free and not visited\n",
    "        neighborEscape = findEscape(x-1, y)\n",
    "        if(neighborEscape):\n",
    "            return f\"{x},{y}-\"+neighborEscape\n",
    "\n",
    "    if(maze[x][y+1]==\"1\" and visit[x][y+1]==0): #check if element on right is free and not visited\n",
    "        neighborEscape2 = findEscape(x, y+1)\n",
    "        if(neighborEscape2):\n",
    "            return f\"{x},{y}-\"+neighborEscape2\n",
    "\n",
    "    if(maze[x+1][y]==\"1\" and visit[x+1][y]==0): #check if element under is free and not visited\n",
    "        neighborEscape3 = findEscape(x+1, y)\n",
    "        if(neighborEscape3):\n",
    "            return f\"{x},{y}-\"+neighborEscape3\n",
    "\n",
    "    if(maze[x][y-1]==\"1\" and visit[x][y-1]==0): #check if element on left is free and not visited\n",
    "        neighborEscape4 = findEscape(x, y-1)\n",
    "        if(neighborEscape4):\n",
    "            return f\"{x},{y}-\"+neighborEscape4\n",
    "\n",
    "    return \"\""
   ]
  },
  {
   "cell_type": "code",
   "execution_count": 3,
   "id": "2ff5f5f1",
   "metadata": {},
   "outputs": [
    {
     "name": "stdout",
     "output_type": "stream",
     "text": [
      "2,3-2,2-3,2-3,1-4,1\n",
      "time in seconds:  0.0003542900085449219\n"
     ]
    }
   ],
   "source": [
    "import time\n",
    "start = time.time()\n",
    "\n",
    "n_row = 5\n",
    "n_col = 6\n",
    "input_maze = \"0 0 1 0 1 1 0 1 0 1 0 1 0 0 1 1 0 0 0 1 1 0 0 1 0 1 0 0 1 0\"\n",
    "x0 = 2\n",
    "y0 = 3\n",
    "\n",
    "lst = input_maze.split()\n",
    "maze = [[lst[i+j] for j in range(n_col)] for i in range(0, n_row*n_col, n_col)]\n",
    "visit = [[0 for j in range(n_col)] for i in range(0, n_row*n_col, n_col)]\n",
    "\n",
    "print(findEscape(x0, y0))\n",
    "print(\"time in seconds: \", time.time()-start)"
   ]
  }
 ],
 "metadata": {
  "kernelspec": {
   "display_name": "Python 3 (ipykernel)",
   "language": "python",
   "name": "python3"
  },
  "language_info": {
   "codemirror_mode": {
    "name": "ipython",
    "version": 3
   },
   "file_extension": ".py",
   "mimetype": "text/x-python",
   "name": "python",
   "nbconvert_exporter": "python",
   "pygments_lexer": "ipython3",
   "version": "3.9.13"
  }
 },
 "nbformat": 4,
 "nbformat_minor": 5
}
