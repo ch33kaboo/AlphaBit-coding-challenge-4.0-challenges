{
 "cells": [
  {
   "cell_type": "markdown",
   "metadata": {
    "id": "MIcbohAF24w7"
   },
   "source": [
    "# Challenge: Two Sum\n",
    "\n",
    "### Category: easy"
   ]
  },
  {
   "cell_type": "markdown",
   "metadata": {
    "id": "gUSwNxWM24xD"
   },
   "source": [
    "## Description:"
   ]
  },
  {
   "cell_type": "markdown",
   "metadata": {
    "id": "viTP_3Pr24xE"
   },
   "source": [
    "In this challenge, the goal is to get the indices of the two numbers in an array of positive integers such that they add up to a specific target. if there is more than one solution (more than one combination of indices) you only have to find one."
   ]
  },
  {
   "cell_type": "markdown",
   "metadata": {
    "id": "k6dkVaMt24xE"
   },
   "source": [
    "## Examples:"
   ]
  },
  {
   "cell_type": "markdown",
   "metadata": {
    "id": "Zz15KBa124xF"
   },
   "source": [
    " - array = [23, 56, 96, 523, 1, 243, 567, 12, 5, 834] , target = 97, the two indices that should be returned are 2 and 4.\n",
    " - array = [5, 22, 9, 12, 3] , target = 8, the two indices are 0 and 4.\n"
   ]
  },
  {
   "cell_type": "markdown",
   "metadata": {
    "id": "YGG4x1mL24xF"
   },
   "source": [
    "## Solutions:"
   ]
  },
  {
   "cell_type": "markdown",
   "metadata": {
    "id": "sA3jyTM924xF"
   },
   "source": [
    "### The stupid solution: (Unoptimized)"
   ]
  },
  {
   "cell_type": "code",
   "execution_count": null,
   "metadata": {
    "id": "HfL8bG-624xG",
    "vscode": {
     "languageId": "javascript"
    }
   },
   "outputs": [],
   "source": [
    "const arr = [8448373, 5279416, 2222386, 6448108, 1278560, 5196334, 7479875, 6372075, 8189671, 4247968, 2108177, 7302857, 2028205, 9591682, 9761414, 7299946, 6096551, 5305669, 4496295, 2548999, 1213730, 356544, 3312868, 5099248, 2458246, 9813301, 7969280, 9924181, 2681752, 5920160, 2559818, 9882120, 9836168, 3266827, 1722593, 3955594, 6203259, 4113196, 1908245, 7906170, 7366713, 4160457, 9802980, 7652421, 1870323, 4790838, 875523, 3000035, 6431485, 942704, 829281, 5802986, 4175305, 6729478, 3155656, 8631735, 748784, 7423422, 3788977, 9969824, 7227709, 7459442, 12907, 7192572, 3109177, 6496901, 295194, 5593878, 9090044, 1124451, 18911, 5694273, 1989170, 8193169, 681139, 1279404, 6988280, 3413107, 7731042, 7372938, 9152809, 8195390, 2094612, 3750668, 4727121, 1803871, 2514145, 5448889, 5996467, 5993452, 2460527, 3394822, 9286287, 8641287, 8883919, 3192291, 1424480, 7121557, 8930202, 3569218]"
   ]
  },
  {
   "cell_type": "code",
   "execution_count": null,
   "metadata": {
    "vscode": {
     "languageId": "javascript"
    }
   },
   "outputs": [],
   "source": [
    "const twoSum = (arr, target) => {\n",
    "    arr.forEach( (iteratorA, indexA) => {\n",
    "        arr.forEach((iteratorB, indexB) => {\n",
    "            (iteratorB+iteratorA == target) ? console.log(indexA + \" \" + indexB) : null\n",
    "        })\n",
    "    })\n",
    "}"
   ]
  },
  {
   "cell_type": "code",
   "execution_count": null,
   "metadata": {
    "colab": {
     "base_uri": "https://localhost:8080/"
    },
    "id": "_ku1YyY224xG",
    "outputId": "26e6f068-6d31-4f34-c560-a6f37ae4fa18",
    "vscode": {
     "languageId": "javascript"
    }
   },
   "outputs": [],
   "source": [
    "twoSum(arr, 31818)"
   ]
  },
  {
   "cell_type": "markdown",
   "metadata": {
    "id": "8SsZ1hOY24xI"
   },
   "source": [
    "## The solution:"
   ]
  },
  {
   "cell_type": "markdown",
   "metadata": {
    "id": "D6I9AdPT24xI"
   },
   "source": [
    "The previous function will go through all the integers of the arrays and add them to each other, and each time it verifies if the sum add up to the target value, an `optimized` function would check if the target is greater than the current value and does the check, otherwise it will do nothing and pass to the next iteration."
   ]
  },
  {
   "cell_type": "code",
   "execution_count": null,
   "metadata": {
    "id": "XcqKRQ2l24xJ",
    "vscode": {
     "languageId": "javascript"
    }
   },
   "outputs": [],
   "source": [
    "const twoSumOptimized = (arr, target) => {\n",
    "    arr.forEach( (iteratorA, indexA) => {\n",
    "        (target > iteratorA) ? \n",
    "            arr.forEach((iteratorB, indexB) => {\n",
    "                (iteratorB+iteratorA == target) ? console.log(indexA + \" \" + indexB) : null\n",
    "            })\n",
    "         : null\n",
    "    })\n",
    "}"
   ]
  },
  {
   "cell_type": "code",
   "execution_count": null,
   "metadata": {
    "colab": {
     "base_uri": "https://localhost:8080/"
    },
    "id": "MuZ5GTzZ24xJ",
    "outputId": "d133bbdb-c3b9-4405-f2b6-c525e42925c2",
    "vscode": {
     "languageId": "javascript"
    }
   },
   "outputs": [],
   "source": [
    "twoSumOptimized(arr, 31818)"
   ]
  },
  {
   "cell_type": "markdown",
   "metadata": {
    "id": "PWDrurp224xK"
   },
   "source": [
    "## Testing execution time:"
   ]
  },
  {
   "cell_type": "markdown",
   "metadata": {
    "id": "HQ9I9vJg24xL"
   },
   "source": [
    "### The stupid solution:"
   ]
  },
  {
   "cell_type": "code",
   "execution_count": null,
   "metadata": {
    "colab": {
     "base_uri": "https://localhost:8080/"
    },
    "id": "JYjHAqpW24xL",
    "outputId": "f90374b4-feff-486e-9214-facdcb46cb42",
    "vscode": {
     "languageId": "javascript"
    }
   },
   "outputs": [],
   "source": [
    "let startTime = performance.now();\n",
    "\n",
    "twoSum(arr, 31818)\n",
    "\n",
    "let endTime = performance.now();\n",
    "let timeElapsed = endTime - startTime;\n",
    "console.log(timeElapsed) // returned 20.22164599597454"
   ]
  },
  {
   "cell_type": "markdown",
   "metadata": {
    "id": "U5EqD0ki24xM"
   },
   "source": [
    "### The correct solution:"
   ]
  },
  {
   "cell_type": "code",
   "execution_count": null,
   "metadata": {
    "colab": {
     "base_uri": "https://localhost:8080/"
    },
    "id": "ZGwighTV24xM",
    "outputId": "b73fab13-9529-4696-988b-9032a123c2ff",
    "vscode": {
     "languageId": "javascript"
    }
   },
   "outputs": [],
   "source": [
    "let startTime = performance.now();\n",
    "\n",
    "twoSumOptimized(arr, 31818)\n",
    "\n",
    "let endTime = performance.now();\n",
    "let timeElapsed = endTime - startTime;\n",
    "console.log(timeElapsed) // returned 3.0176199972629547"
   ]
  }
 ],
 "metadata": {
  "colab": {
   "collapsed_sections": [],
   "name": "example.ipynb",
   "provenance": []
  },
  "kernelspec": {
   "display_name": "Python 3 (ipykernel)",
   "language": "python",
   "name": "python3"
  },
  "language_info": {
   "codemirror_mode": {
    "name": "ipython",
    "version": 3
   },
   "file_extension": ".py",
   "mimetype": "text/x-python",
   "name": "python",
   "nbconvert_exporter": "python",
   "pygments_lexer": "ipython3",
   "version": "3.9.13"
  },
  "vscode": {
   "interpreter": {
    "hash": "e7370f93d1d0cde622a1f8e1c04877d8463912d04d973331ad4851f04de6915a"
   }
  }
 },
 "nbformat": 4,
 "nbformat_minor": 4
}
