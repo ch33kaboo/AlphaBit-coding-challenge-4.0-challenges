{
 "cells": [
  {
   "attachments": {},
   "cell_type": "markdown",
   "metadata": {
    "id": "MIcbohAF24w7"
   },
   "source": [
    "# Challenge : Carriage-lot"
   ]
  },
  {
   "attachments": {},
   "cell_type": "markdown",
   "metadata": {
    "id": "gUSwNxWM24xD"
   },
   "source": [
    "## Description:"
   ]
  },
  {
   "attachments": {},
   "cell_type": "markdown",
   "metadata": {
    "id": "viTP_3Pr24xE"
   },
   "source": [
    "Listen up, Mortal! In the realm of Midgard, there's a legendary fortress with a top-notch surveillance system guarded by the bravest of warriors. Many carriages roll in and out of the fortress daily, and the system tracks their movements like the eyes of Odin.\n",
    "\n",
    "The rules of the fortress are simple but strict:\n",
    "    No carriage can enter or exit the fortress more than once in a day. The Valkyries won't tolerate double-dipping!\n",
    "    No carriage can leave without entering the fortress first. Have some respect for the guardians of Midgard, mortal!\n",
    "    At the end of every day, the fortress must be empty. \n",
    "Any sequence of carriage movements that follows these rules is considered a valid day in the fortress.\n",
    "\n",
    "Now, our esteemed Gard  has lost track of time and misplaced the dates of n recent events, represented by the array a1, a2, ..., an. These events occurred over one or more days, but it's up to you, to use your wisdom and slice up the array a into valid day subarrays, or let our gard know it's impossible (output -1).\n",
    "\n",
    "For example, if n=8 and a=[1,−1,1,2,−1,−2,3,−3], you can break it down into two valid days: a=[1,−1 | 1,2,−1,−2| 3,−3].\n",
    "\n",
    "You have been chosen for this task. Bring honor to the people of the Midgard and show our gard the true meaning of divine intervention!"
   ]
  },
  {
   "attachments": {},
   "cell_type": "markdown",
   "metadata": {
    "id": "k6dkVaMt24xE"
   },
   "source": [
    "## Examples:"
   ]
  },
  {
   "attachments": {},
   "cell_type": "markdown",
   "metadata": {
    "id": "Zz15KBa124xF"
   },
   "source": [
    "\n",
    "\n",
    "**Input** :\n",
    "```\n",
    "6\n",
    "1 7 -7 3 -1 -3\n",
    "```\n",
    "**Output** :\n",
    "```\n",
    "1\n",
    "6\n",
    "```\n",
    "______________\n",
    "\n",
    "**Input** :\n",
    "```\n",
    "8\n",
    "1 -1 1 2 -1 -2 3 -3\n",
    "\n",
    "```\n",
    "**Output** :\n",
    "```\n",
    "3\n",
    "2 4 2\n",
    "\n",
    "```\n",
    "______________\n",
    "\n",
    "\n",
    "**Input** :\n",
    "```\n",
    "6\n",
    "2 5 -5 5 -5 -2\n",
    "\n",
    "```\n",
    "**Output** :\n",
    "```\n",
    "-1\n",
    "-1\n",
    "```\n",
    "______________\n",
    "\n",
    "\n",
    "**Input** :\n",
    "```\n",
    "3\n",
    "-8 1 1\n",
    "\n",
    "```\n",
    "**Output** :\n",
    "```\n",
    "-1\n",
    "-1\n",
    "\n",
    "```\n",
    "______________\n"
   ]
  },
  {
   "attachments": {},
   "cell_type": "markdown",
   "metadata": {
    "id": "YGG4x1mL24xF"
   },
   "source": [
    "## Solutions:"
   ]
  },
  {
   "attachments": {},
   "cell_type": "markdown",
   "metadata": {
    "id": "8SsZ1hOY24xI"
   },
   "source": [
    "## The solution:"
   ]
  },
  {
   "attachments": {},
   "cell_type": "markdown",
   "metadata": {
    "id": "D6I9AdPT24xI"
   },
   "source": [
    "#### Approach:\n",
    "1. Initialize an empty list  for cars leaving and entering, another one for the cars who was in the parking lot for the current day, and yet another one for the cars who parked and left for the day\n",
    "2. for each day if car didn't park and leave already proceed\n",
    "3. if entry append it to day's list and the stack, if departure and the car was parked today remouve that for the car who are parked and append it the the cars who left\n",
    "    until there is no cars left in the parking lot which means len(day) ==0, we clear the lists done and day  and copy this event to a list i called \"oute\"\n",
    "4. if a day is invalid we return -1 \n",
    "5. for each day we determine the number of cars entered and how many days were in the log file\n"
   ]
  },
  {
   "cell_type": "code",
   "execution_count": 1,
   "metadata": {
    "id": "XcqKRQ2l24xJ"
   },
   "outputs": [
    {
     "ename": "FileNotFoundError",
     "evalue": "[Errno 2] No such file or directory: 'input.txt'",
     "output_type": "error",
     "traceback": [
      "\u001b[1;31m---------------------------------------------------------------------------\u001b[0m",
      "\u001b[1;31mFileNotFoundError\u001b[0m                         Traceback (most recent call last)",
      "Cell \u001b[1;32mIn[1], line 1\u001b[0m\n\u001b[1;32m----> 1\u001b[0m \u001b[39mwith\u001b[39;00m \u001b[39mopen\u001b[39;49m(\u001b[39m'\u001b[39;49m\u001b[39minput.txt\u001b[39;49m\u001b[39m'\u001b[39;49m, \u001b[39m'\u001b[39;49m\u001b[39mr\u001b[39;49m\u001b[39m'\u001b[39;49m) \u001b[39mas\u001b[39;00m f:\n\u001b[0;32m      2\u001b[0m     n \u001b[39m=\u001b[39m \u001b[39mint\u001b[39m(f\u001b[39m.\u001b[39mreadline())\n\u001b[0;32m      3\u001b[0m     events \u001b[39m=\u001b[39m \u001b[39mlist\u001b[39m(\u001b[39mmap\u001b[39m(\u001b[39mint\u001b[39m, f\u001b[39m.\u001b[39mreadline()\u001b[39m.\u001b[39msplit()))\n",
      "File \u001b[1;32m~\\AppData\\Roaming\\Python\\Python310\\site-packages\\IPython\\core\\interactiveshell.py:282\u001b[0m, in \u001b[0;36m_modified_open\u001b[1;34m(file, *args, **kwargs)\u001b[0m\n\u001b[0;32m    275\u001b[0m \u001b[39mif\u001b[39;00m file \u001b[39min\u001b[39;00m {\u001b[39m0\u001b[39m, \u001b[39m1\u001b[39m, \u001b[39m2\u001b[39m}:\n\u001b[0;32m    276\u001b[0m     \u001b[39mraise\u001b[39;00m \u001b[39mValueError\u001b[39;00m(\n\u001b[0;32m    277\u001b[0m         \u001b[39mf\u001b[39m\u001b[39m\"\u001b[39m\u001b[39mIPython won\u001b[39m\u001b[39m'\u001b[39m\u001b[39mt let you open fd=\u001b[39m\u001b[39m{\u001b[39;00mfile\u001b[39m}\u001b[39;00m\u001b[39m by default \u001b[39m\u001b[39m\"\u001b[39m\n\u001b[0;32m    278\u001b[0m         \u001b[39m\"\u001b[39m\u001b[39mas it is likely to crash IPython. If you know what you are doing, \u001b[39m\u001b[39m\"\u001b[39m\n\u001b[0;32m    279\u001b[0m         \u001b[39m\"\u001b[39m\u001b[39myou can use builtins\u001b[39m\u001b[39m'\u001b[39m\u001b[39m open.\u001b[39m\u001b[39m\"\u001b[39m\n\u001b[0;32m    280\u001b[0m     )\n\u001b[1;32m--> 282\u001b[0m \u001b[39mreturn\u001b[39;00m io_open(file, \u001b[39m*\u001b[39margs, \u001b[39m*\u001b[39m\u001b[39m*\u001b[39mkwargs)\n",
      "\u001b[1;31mFileNotFoundError\u001b[0m: [Errno 2] No such file or directory: 'input.txt'"
     ]
    }
   ],
   "source": [
    "with open('input.txt', 'r') as f:\n",
    "    n = int(f.readline())\n",
    "    events = list(map(int, f.readline().split()))\n",
    "\n",
    "\n",
    "def solve(n, events):\n",
    "    if len(events) % 2  == 1 : return -1 ,[-1] #wahed dkhal w makhrejch\n",
    "    stack =[]  # people entering and leaving in the current day \n",
    "    day =[]   # number of people in the office in the current day\n",
    "    done=[]   # people entered and left the current  day \n",
    "    oute_index = [] # nmubr of people who worked the current day * 2\n",
    "    oute=[]   # dats partition from the events list\n",
    "    \n",
    "    for e in events:\n",
    "        if e not in done :\n",
    "            if e > 0 and e not in day: # entering \n",
    "                day.append(e)\n",
    "                stack.append(e)\n",
    "            elif (e < 0) and (-e in day):  #departure\n",
    "                day.remove(abs(e))\n",
    "                stack.append(e)\n",
    "                done.append(abs(e))\n",
    "                if len(day)==0:  \n",
    "                    oute.append(stack.copy())\n",
    "                    del done[:]\n",
    "                    del day[:]\n",
    "                    del stack[:]\n",
    "            else : \n",
    "                return -1 ,[-1]\n",
    "\n",
    "\n",
    "    oute_index = [len(num) for num in oute]\n",
    "\n",
    "\n",
    "    return len(oute), oute_index\n",
    "\n",
    "\n",
    "n , sol = solve(n, events)\n",
    "\n",
    "with open('output.txt', 'w') as f:\n",
    "    f.write(str(n) + '\\n')\n",
    "    f.write(' '.join(map(str, sol)))\n",
    "\n",
    "    \n"
   ]
  }
 ],
 "metadata": {
  "colab": {
   "collapsed_sections": [],
   "name": "example.ipynb",
   "provenance": []
  },
  "kernelspec": {
   "display_name": "Python 3",
   "language": "python",
   "name": "python3"
  },
  "language_info": {
   "codemirror_mode": {
    "name": "ipython",
    "version": 3
   },
   "file_extension": ".py",
   "mimetype": "text/x-python",
   "name": "python",
   "nbconvert_exporter": "python",
   "pygments_lexer": "ipython3",
   "version": "3.10.4"
  },
  "vscode": {
   "interpreter": {
    "hash": "65a440aeac0c89e2af7569e0aa53b64434c4b69eb6285e2b0d174d9bca190d54"
   }
  }
 },
 "nbformat": 4,
 "nbformat_minor": 4
}
