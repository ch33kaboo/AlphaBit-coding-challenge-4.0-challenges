{
 "cells": [
  {
   "cell_type": "markdown",
   "metadata": {
    "id": "MIcbohAF24w7"
   },
   "source": [
    "# Challenge Example: Car-a-lot"
   ]
  },
  {
   "cell_type": "markdown",
   "metadata": {
    "id": "gUSwNxWM24xD"
   },
   "source": [
    "## Description:"
   ]
  },
  {
   "cell_type": "markdown",
   "metadata": {
    "id": "viTP_3Pr24xE"
   },
   "source": [
    "Aight, Picture this : There's this dope Parking Lot Company with a crazy \"high-tech\" security system. We got cars comming in and out on a daily. Now, the system's all about tracking cars coming in and going out. Car i rolls in, they mark it as i, and when it bounces(leaves), that's -i.\n",
    "\n",
    "Here are the rules, y'all:\n",
    "1. A car can only park once a day. No double dipping!\n",
    "2. Can't leave if it didn't park. Who let the cars out? Not without parking first!\n",
    "3. Every morning and night, the lot's gotta be as empty . \n",
    "\n",
    "Any sequence sticking to these rules is what we call a valid day.\n",
    "\n",
    "Now, we got n events a1, a2, ..., an, and they happened in order. These events are spread over one or more days, but somebody done messed up – our admin guy lost the dates! Your mission, should you choose to accept it, is to slice up the array a into valid day subarrays (or say it just can't be done).\n",
    "\" he had one job, and he messed it up? Come on, man!\" anyways here's an example : \n",
    "\n",
    " if n=8 and a=[1,−1,1,2,−1,−2,3,−3], you can break it down into two valid days: a=[1,−1 | 1,2,−1,−2| 3,−3].\n",
    "\n",
    "Help our poor admin dude by splitting the array a like a ninja, or tell 'em it's impossible (output -1). get it done!"
   ]
  },
  {
   "cell_type": "markdown",
   "metadata": {
    "id": "k6dkVaMt24xE"
   },
   "source": [
    "## Examples:"
   ]
  },
  {
   "cell_type": "markdown",
   "metadata": {
    "id": "Zz15KBa124xF"
   },
   "source": [
    "\n",
    "\n",
    "**Input** :\n",
    "```\n",
    "6\n",
    "1 7 -7 3 -1 -3\n",
    "```\n",
    "**Output** :\n",
    "```\n",
    "1\n",
    "6\n",
    "```\n",
    "______________\n",
    "\n",
    "**Input** :\n",
    "```\n",
    "8\n",
    "1 -1 1 2 -1 -2 3 -3\n",
    "\n",
    "```\n",
    "**Output** :\n",
    "```\n",
    "2\n",
    "2 6\n",
    "\n",
    "```\n",
    "______________\n",
    "\n",
    "\n",
    "**Input** :\n",
    "```\n",
    "6\n",
    "2 5 -5 5 -5 -2\n",
    "\n",
    "```\n",
    "**Output** :\n",
    "```\n",
    "-1\n",
    "```\n",
    "______________\n",
    "\n",
    "\n",
    "**Input** :\n",
    "```\n",
    "3\n",
    "-8 1 1\n",
    "\n",
    "```\n",
    "**Output** :\n",
    "```\n",
    "-1\n",
    "\n",
    "```\n",
    "______________\n"
   ]
  },
  {
   "cell_type": "markdown",
   "metadata": {
    "id": "YGG4x1mL24xF"
   },
   "source": [
    "## Solutions:"
   ]
  },
  {
   "cell_type": "markdown",
   "metadata": {
    "id": "8SsZ1hOY24xI"
   },
   "source": [
    "## The solution:"
   ]
  },
  {
   "cell_type": "markdown",
   "metadata": {
    "id": "D6I9AdPT24xI"
   },
   "source": [
    "#### Approach:\n",
    "1. Initialize an empty list  for cars leaving and entering, another one for the cars who was in the parking lot for the current day, and yet another one for the cars who parked and left for the day\n",
    "2. for each day if car didn't park and leave already proceed\n",
    "3. if entry append it to day's list and the stack, if departure and the car was parked today remouve that for the car who are parked and append it the the cars who left\n",
    "    until there is no cars left in the parking lot which means len(day) ==0, we clear the lists done and day  and copy this event to a list i called \"oute\"\n",
    "4. if a day is invalid we return -1 \n",
    "5. for each day we determine the number of cars entered and how many days were in the log file\n"
   ]
  },
  {
   "cell_type": "code",
   "execution_count": 7,
   "metadata": {
    "id": "XcqKRQ2l24xJ"
   },
   "outputs": [
    {
     "name": "stdout",
     "output_type": "stream",
     "text": [
      "3\n",
      "2 4 2\n"
     ]
    }
   ],
   "source": [
    "with open('input.txt', 'r') as f:\n",
    "    n = int(f.readline())\n",
    "    events = list(map(int, f.readline().split()))\n",
    "\n",
    "\n",
    "def solve(n, events):\n",
    "    if len(events) % 2  == 1 : return -1 #wahed dkhal w makhrejch\n",
    "    stack =[]  # people entering and leaving in the current day \n",
    "    day =[]   # number of people in the office in the current day\n",
    "    done=[]   # people entered and left the current  day \n",
    "    oute_index = [] # nmubr of people who worked the current day * 2\n",
    "    oute=[]   # dats partition from the events list\n",
    "    \n",
    "    for e in events:\n",
    "        if e not in done : #ida wah7ed dkhal wkhrej w bghi y3awed ydkhl same day\n",
    "            if e > 0 : # entering \n",
    "                day.append(e)\n",
    "                stack.append(e)\n",
    "            elif (e < 0) and (-e in day):  #departure\n",
    "                day.remove(abs(e))\n",
    "                stack.append(e)\n",
    "                done.append(abs(e))\n",
    "                if len(day)==0:  \n",
    "                    oute.append(stack.copy())\n",
    "                    del done[:]\n",
    "                    del day[:]\n",
    "                    del stack[:]\n",
    "            else : \n",
    "                return -1\n",
    "\n",
    "\n",
    "\n",
    "    oute_index = [len(num) for num in oute]\n",
    "\n",
    "\n",
    "    return len(oute), oute_index\n",
    "\n",
    "\n",
    "n , sol = solve(n, events)\n",
    "print(n, end='\\n')\n",
    "print(' '.join(map(str,sol)))\n",
    "\n",
    "with open('output.txt', 'w') as f:\n",
    "    f.write(str(n) + '\\n')\n",
    "    f.write(' '.join(map(str, sol)))\n",
    "\n",
    "    \n"
   ]
  }
 ],
 "metadata": {
  "colab": {
   "collapsed_sections": [],
   "name": "example.ipynb",
   "provenance": []
  },
  "kernelspec": {
   "display_name": "Python 3 (ipykernel)",
   "language": "python",
   "name": "python3"
  },
  "language_info": {
   "codemirror_mode": {
    "name": "ipython",
    "version": 3
   },
   "file_extension": ".py",
   "mimetype": "text/x-python",
   "name": "python",
   "nbconvert_exporter": "python",
   "pygments_lexer": "ipython3",
   "version": "3.9.13"
  },
  "vscode": {
   "interpreter": {
    "hash": "65a440aeac0c89e2af7569e0aa53b64434c4b69eb6285e2b0d174d9bca190d54"
   }
  }
 },
 "nbformat": 4,
 "nbformat_minor": 4
}
