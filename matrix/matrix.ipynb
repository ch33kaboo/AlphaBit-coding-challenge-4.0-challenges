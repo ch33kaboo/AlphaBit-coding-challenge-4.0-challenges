{
 "cells": [
  {
   "attachments": {},
   "cell_type": "markdown",
   "metadata": {
    "id": "MIcbohAF24w7"
   },
   "source": [
    "# Challenge Example: Search for word in Snake game style matrix"
   ]
  },
  {
   "cell_type": "markdown",
   "metadata": {
    "id": "gUSwNxWM24xD"
   },
   "source": [
    "## Description:"
   ]
  },
  {
   "attachments": {},
   "cell_type": "markdown",
   "metadata": {
    "id": "viTP_3Pr24xE"
   },
   "source": [
    "> given a matrix `M` of characters. your job is to find the string `S`, But the matrix behaves differently, you can go out of bounds and reach the opposite side like the snake game or pacman, words are laid out horizontally or vertically in both directions (no diagonal)\n",
    "\n",
    "In this challenge, the goal is to give the which row or column resides the `S`\n",
    " - M.rows [3,10]\n",
    " - M.columns [3,10]\n",
    " - S.length [2, max(M.rows) * 2 - 1] \n",
    " - Matrix is guaranteed to only have one instance of the word `S` if it exists."
   ]
  },
  {
   "attachments": {},
   "cell_type": "markdown",
   "metadata": {},
   "source": [
    "### Input\n",
    "\n",
    "- first line : the string `S`\n",
    "- n lines (after the first line): the matrix's rows with each line having m characters separated by space\n",
    "\n",
    "### Output\n",
    "- If `S` is found : one line with two words, first being `row` or `col`, second is row/col's index (idnex starts with 1)\n",
    "- If `S` is not found : one line with string `none`"
   ]
  },
  {
   "cell_type": "markdown",
   "metadata": {
    "id": "k6dkVaMt24xE"
   },
   "source": [
    "## Examples:"
   ]
  },
  {
   "attachments": {},
   "cell_type": "markdown",
   "metadata": {
    "id": "Zz15KBa124xF"
   },
   "source": [
    "#### Input\n",
    "```\n",
    "alpha\n",
    "h a a l p\n",
    "b i t c l\n",
    "u b s u p\n",
    "```\n",
    "#### Output\n",
    "```\n",
    "row 1\n",
    "```"
   ]
  },
  {
   "attachments": {},
   "cell_type": "markdown",
   "metadata": {
    "id": "YGG4x1mL24xF"
   },
   "source": [
    "## Solutions: \n",
    "\n",
    "in javascript"
   ]
  },
  {
   "cell_type": "code",
   "execution_count": 3,
   "metadata": {
    "id": "HfL8bG-624xG"
   },
   "outputs": [
    {
     "data": {
      "text/plain": [
       "[900, 3]"
      ]
     },
     "execution_count": 3,
     "metadata": {},
     "output_type": "execute_result"
    }
   ],
   "source": [
    "const input = {\n",
    "  matrix: [\"haalp\", \"bitcl\", \"ubsup\"],\n",
    "  str: \"alpha\",\n",
    "};\n",
    "\n",
    "// utility functions\n",
    "function reverseString(str) {\n",
    "  return str.split(\"\").reverse().join(\"\");\n",
    "}\n",
    "\n",
    "function getColumn(matrix, colNumber) {\n",
    "  return matrix.map((row) => row[colNumber]).join(\"\");\n",
    "}\n",
    "\n",
    "// helper functions\n",
    "function checkHorizontal(matrix, str, pos) {\n",
    "  const row = Math.floor(pos / matrix.length);\n",
    "  const right = matrix[row].repeat(2);\n",
    "  const left = reverseString(matrix[row]).repeat(2);\n",
    "\n",
    "  return right.search(str) != -1 || left.search(str) != -1;\n",
    "}\n",
    "\n",
    "function checkVertical(matrix, str, pos) {\n",
    "  const col = pos % matrix[0].length;\n",
    "  const bottom = getColumn(matrix, col).repeat(2);\n",
    "  const up = reverseString(getColumn(matrix, col)).repeat(2);\n",
    "\n",
    "  return bottom.search(str) != -1 || up.search(str) != -1;\n",
    "}\n",
    "\n",
    "//algo\n",
    "\n",
    "function sol(input) {\n",
    "  const { matrix, str } = input;\n",
    "  const rows = matrix.length;\n",
    "  const cols = matrix[0].length;\n",
    "\n",
    "  for (let i = 0; i < rows; i++) {\n",
    "    if (checkHorizontal(matrix, str, i)) {\n",
    "      console.log(`row ${i + 1}`);\n",
    "      return;\n",
    "    }\n",
    "  }\n",
    "\n",
    "  for (let i = 0; i < cols; i++) {\n",
    "    if (checkVertical(matrix, str, i)) {\n",
    "      console.log(`col ${i + 1}`);\n",
    "      return;\n",
    "    }\n",
    "  }\n",
    "\n",
    "  console.log(\"none\")\n",
    "}\n",
    "\n",
    "sol(input);\n"
   ]
  }
 ],
 "metadata": {
  "colab": {
   "collapsed_sections": [],
   "name": "example.ipynb",
   "provenance": []
  },
  "kernelspec": {
   "display_name": "Python 3",
   "language": "python",
   "name": "python3"
  },
  "language_info": {
   "codemirror_mode": {
    "name": "ipython",
    "version": 3
   },
   "file_extension": ".py",
   "mimetype": "text/x-python",
   "name": "python",
   "nbconvert_exporter": "python",
   "pygments_lexer": "ipython3",
   "version": "3.10.10"
  },
  "vscode": {
   "interpreter": {
    "hash": "767d51c1340bd893661ea55ea3124f6de3c7a262a8b4abca0554b478b1e2ff90"
   }
  }
 },
 "nbformat": 4,
 "nbformat_minor": 4
}
