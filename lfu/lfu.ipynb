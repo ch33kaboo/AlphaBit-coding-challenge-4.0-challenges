{
 "cells": [
  {
   "attachments": {},
   "cell_type": "markdown",
   "metadata": {
    "id": "viTP_3Pr24xE"
   },
   "source": [
    "Hear me, mortals of Alphabit CC challengers! I am the almighty Zeus, and I require your assistance in organizing my armory. The armory has a maximum storage of `M` *units*, and I have `N` powerful weapons that I long to store, each weapon has an identification `id` and the space needed to store it `S_id`.\n",
    "\n",
    "After each utilization of my weapons I store them in the armory, the last weapon i use is always stored in the armory, if a new weapon (doesn't exist in the armory already) cannot be stored due to space constraints, simply remove least used weapon.\n",
    "\n",
    "I entrust this task to you, mortals, and I pray that you will not disappoint me. With your help, the armory shall hold the power and might of the gods!\n",
    "\n",
    " - M: [1, 1000] (max capacity)\n",
    " - N: [1, 20] (number of weapons)\n",
    " - S_id: [1, M] (space required for weapon `id`)\n",
    " - id: [0, N - 1]\n",
    "\n",
    "Assumptions : \n",
    "- The armory is empty at first.\n",
    "- Upon removal of least used weapons, if 2 or more weapons has the same lowest usage frequency, remove the one with smallest **weapon id**."
   ]
  },
  {
   "attachments": {},
   "cell_type": "markdown",
   "metadata": {
    "id": "MIcbohAF24w7"
   },
   "source": [
    "# Challenge Example: Cache eviction algorithms (LFU)"
   ]
  },
  {
   "attachments": {},
   "cell_type": "markdown",
   "metadata": {
    "id": "gUSwNxWM24xD"
   },
   "source": [
    "## Description:"
   ]
  },
  {
   "attachments": {},
   "cell_type": "markdown",
   "metadata": {},
   "source": [
    "### Input\n",
    "\n",
    "- 1st line : The maximum storage capacity of the armory `M`\n",
    "- 2nd line : `N` weapons to be inserted separated by space, value represents the weapon's requried space (`S_id`)\n",
    "- 3rd line : `m` weapon utilizations, the numbers represent the weapons ids (`id`)\n",
    "\n",
    "### Output\n",
    "- One line : The armory's occupied space after storing the last weapon"
   ]
  },
  {
   "attachments": {},
   "cell_type": "markdown",
   "metadata": {
    "id": "k6dkVaMt24xE"
   },
   "source": [
    "## Examples:"
   ]
  },
  {
   "attachments": {},
   "cell_type": "markdown",
   "metadata": {
    "id": "Zz15KBa124xF"
   },
   "source": [
    "### Example 1\n",
    "#### Input\n",
    "\n",
    "1000\n",
    "\n",
    "100 200 300 400\n",
    "\n",
    "0 1 2 3\n",
    "\n",
    "#### Output\n",
    "\n",
    "1000\n",
    "\n",
    "### Example 2\n",
    "#### Input\n",
    "\n",
    "1000\n",
    "\n",
    "100 200 400 300 250 200\n",
    "\n",
    "0 1 2 0 0 1 3 4 3 3 5\n",
    "\n",
    "#### Output\n",
    "\n",
    "800"
   ]
  },
  {
   "attachments": {},
   "cell_type": "markdown",
   "metadata": {
    "id": "YGG4x1mL24xF"
   },
   "source": [
    "## Solutions:"
   ]
  },
  {
   "cell_type": "code",
   "execution_count": 2,
   "metadata": {
    "id": "HfL8bG-624xG",
    "vscode": {
     "languageId": "javascript"
    }
   },
   "outputs": [
    {
     "ename": "SyntaxError",
     "evalue": "invalid syntax (3622238783.py, line 1)",
     "output_type": "error",
     "traceback": [
      "\u001b[0;36m  Cell \u001b[0;32mIn[2], line 1\u001b[0;36m\u001b[0m\n\u001b[0;31m    const input = {\u001b[0m\n\u001b[0m          ^\u001b[0m\n\u001b[0;31mSyntaxError\u001b[0m\u001b[0;31m:\u001b[0m invalid syntax\n"
     ]
    }
   ],
   "source": [
    "const input = {\n",
    "  capacity: 1000,\n",
    "  weights: [100, 200, 400, 300, 250, 200],\n",
    "  uses: [0, 1, 2, 0, 0, 1, 3, 4, 3, 3, 5],\n",
    "};\n",
    "\n",
    "function sol() {\n",
    "  let currentCapacity = 0;\n",
    "  let frequencyMap = Array(6).fill(0); // init frequencies to 0\n",
    "  for (const itemId of input.uses) {\n",
    "    if (frequencyMap[itemId] === 0) {\n",
    "      while (currentCapacity + input.weights[itemId] > input.capacity) {\n",
    "        // remove weight of item with least non-zero frequency\n",
    "        const minItemId = frequencyMap.indexOf(\n",
    "          Math.min(...frequencyMap.filter((x) => x !== 0))\n",
    "        );\n",
    "        frequencyMap[minItemId] = 0;\n",
    "        currentCapacity -= input.weights[minItemId];\n",
    "      }\n",
    "      currentCapacity += input.weights[itemId];\n",
    "    }\n",
    "    frequencyMap[itemId]++;\n",
    "  }\n",
    "\n",
    "  return currentCapacity\n",
    "}\n",
    "\n",
    "console.log(sol())"
   ]
  }
 ],
 "metadata": {
  "colab": {
   "collapsed_sections": [],
   "name": "example.ipynb",
   "provenance": []
  },
  "kernelspec": {
   "display_name": "Python 3",
   "language": "python",
   "name": "python3"
  },
  "language_info": {
   "codemirror_mode": {
    "name": "ipython",
    "version": 3
   },
   "file_extension": ".py",
   "mimetype": "text/x-python",
   "name": "python",
   "nbconvert_exporter": "python",
   "pygments_lexer": "ipython3",
   "version": "3.10.10"
  },
  "vscode": {
   "interpreter": {
    "hash": "767d51c1340bd893661ea55ea3124f6de3c7a262a8b4abca0554b478b1e2ff90"
   }
  }
 },
 "nbformat": 4,
 "nbformat_minor": 4
}
