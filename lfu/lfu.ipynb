{
 "cells": [
  {
   "attachments": {},
   "cell_type": "markdown",
   "metadata": {
    "id": "MIcbohAF24w7"
   },
   "source": [
    "# Challenge Example: Cache eviction algorithms (LFU)"
   ]
  },
  {
   "cell_type": "markdown",
   "metadata": {
    "id": "gUSwNxWM24xD"
   },
   "source": [
    "## Description:"
   ]
  },
  {
   "attachments": {},
   "cell_type": "markdown",
   "metadata": {
    "id": "viTP_3Pr24xE"
   },
   "source": [
    "> given a cache/storage box with maximum size of `M` and we want to insert `n` items, the goal is to store them sequentially and make sure the last item is stored.\n",
    "\n",
    "if an item can't be inserted due to size constraint delete least items until there is enough space to store current item, if there are more than one item with the least frequency, delete the one with smallest id.\n",
    "\n",
    "In this challenge, the goal is to give the final occupied size of the cache.\n",
    "\n",
    " - M: [1, 1000]\n",
    " - n: [1, 20]\n",
    " - n_i: [1, M]"
   ]
  },
  {
   "attachments": {},
   "cell_type": "markdown",
   "metadata": {},
   "source": [
    "### Input\n",
    "\n",
    "- first line : `M` the size of the cache\n",
    "- second line : `n` n item to be inserted separated by space, value represents the item's size\n",
    "- third line : `m` insertions, the numbers represent the ids, m_i : [0, n - 1]\n",
    "\n",
    "### Output\n",
    "- first line : current occupied size of the cache"
   ]
  },
  {
   "cell_type": "markdown",
   "metadata": {
    "id": "k6dkVaMt24xE"
   },
   "source": [
    "## Examples:"
   ]
  },
  {
   "attachments": {},
   "cell_type": "markdown",
   "metadata": {
    "id": "Zz15KBa124xF"
   },
   "source": [
    "#### Input\n",
    "\n",
    "1000\n",
    "\n",
    "100 200 400 300 250 200\n",
    "0 1 2 0 0 1 3 4 3 3 5\n",
    "\n",
    "#### Output\n",
    "\n",
    "800"
   ]
  },
  {
   "cell_type": "markdown",
   "metadata": {
    "id": "YGG4x1mL24xF"
   },
   "source": [
    "## Solutions:"
   ]
  },
  {
   "cell_type": "code",
   "execution_count": 2,
   "metadata": {
    "id": "HfL8bG-624xG",
    "vscode": {
     "languageId": "javascript"
    }
   },
   "outputs": [
    {
     "ename": "SyntaxError",
     "evalue": "invalid syntax (3622238783.py, line 1)",
     "output_type": "error",
     "traceback": [
      "\u001b[0;36m  Cell \u001b[0;32mIn[2], line 1\u001b[0;36m\u001b[0m\n\u001b[0;31m    const input = {\u001b[0m\n\u001b[0m          ^\u001b[0m\n\u001b[0;31mSyntaxError\u001b[0m\u001b[0;31m:\u001b[0m invalid syntax\n"
     ]
    }
   ],
   "source": [
    "const input = {\n",
    "  capacity: 1000,\n",
    "  weights: [100, 200, 400, 300, 250, 200],\n",
    "  uses: [0, 1, 2, 0, 0, 1, 3, 4, 3, 3, 5],\n",
    "};\n",
    "\n",
    "function sol() {\n",
    "  let currentCapacity = 0;\n",
    "  let frequencyMap = Array(6).fill(0); // init frequencies to 0\n",
    "  for (const itemId of input.uses) {\n",
    "    if (frequencyMap[itemId] === 0) {\n",
    "      while (currentCapacity + input.weights[itemId] > input.capacity) {\n",
    "        // remove weight of item with least non-zero frequency\n",
    "        const minItemId = frequencyMap.indexOf(\n",
    "          Math.min(...frequencyMap.filter((x) => x !== 0))\n",
    "        );\n",
    "        frequencyMap[minItemId] = 0;\n",
    "        currentCapacity -= input.weights[minItemId];\n",
    "      }\n",
    "      currentCapacity += input.weights[itemId];\n",
    "    }\n",
    "    frequencyMap[itemId]++;\n",
    "  }\n",
    "\n",
    "  return currentCapacity\n",
    "}\n",
    "\n",
    "console.log(sol())"
   ]
  }
 ],
 "metadata": {
  "colab": {
   "collapsed_sections": [],
   "name": "example.ipynb",
   "provenance": []
  },
  "kernelspec": {
   "display_name": "Python 3",
   "language": "python",
   "name": "python3"
  },
  "language_info": {
   "codemirror_mode": {
    "name": "ipython",
    "version": 3
   },
   "file_extension": ".py",
   "mimetype": "text/x-python",
   "name": "python",
   "nbconvert_exporter": "python",
   "pygments_lexer": "ipython3",
   "version": "3.10.10"
  },
  "vscode": {
   "interpreter": {
    "hash": "767d51c1340bd893661ea55ea3124f6de3c7a262a8b4abca0554b478b1e2ff90"
   }
  }
 },
 "nbformat": 4,
 "nbformat_minor": 4
}
