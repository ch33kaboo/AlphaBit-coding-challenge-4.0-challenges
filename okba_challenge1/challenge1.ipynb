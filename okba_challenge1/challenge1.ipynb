{
 "cells": [
  {
   "attachments": {},
   "cell_type": "markdown",
   "metadata": {
    "id": "MIcbohAF24w7"
   },
   "source": [
    "# Challenge: Sort me if you can. \n",
    "By ALLAOUA Okba."
   ]
  },
  {
   "cell_type": "markdown",
   "metadata": {
    "id": "gUSwNxWM24xD"
   },
   "source": [
    "## Description:"
   ]
  },
  {
   "attachments": {},
   "cell_type": "markdown",
   "metadata": {
    "id": "viTP_3Pr24xE"
   },
   "source": [
    "> A simple paragraph describing the general idea of the challenge.\n",
    "Once upon a time, in the land of code, there was a challenge that perplexed even the most skilled programmers. The challenge was to sort a given string based on a set of complex rules and priorities. Many brave warriors of the code attempted the challenge, but none could conquer it.\n",
    "\n",
    "Then, a young and fearless coder named Athena stepped up to the challenge. Athena knew that the key to success was understanding the rules of the sorting criteria. She carefully studied each rule, determined to find a way to tackle the challenge.\n",
    "\n",
    "The sorting rules were as follows:\n",
    "\n",
    "    1- Capital vowels characters.\n",
    "    2- Small consonants characters at indexes that are divisible by 4.\n",
    "    3- Capital consonants characters.\n",
    "    4- Capital consonants characters at indexes that are divisible by 4.\n",
    "    5- Digits.\n",
    "    6- Symbols.\n",
    "    7- Small vowels characters.\n",
    "    8- Small consonants characters.\n",
    "\n",
    "Athena knew that vowels were the top priority, followed by small consonants at indexes divisible by 4, and so on. With this knowledge, she set out to conquer the challenge.\n",
    "\n",
    "As Athena worked through the problem, she began to understand the intricacies of the sorting criteria. She sorted the string bit by bit, carefully adhering to each rule. Slowly but surely, the string began to take shape in the correct order.\n",
    "\n",
    "Finally, after much effort and determination, Athena emerged victorious! She had successfully sorted the string according to the complex rules and priorities. With her skills honed and her code perfected, Athena knew that she could take on any coding challenge that came her way.\n",
    "\n",
    "Vowels are: `aeiouy`.<br />\n",
    "Constantes are: `bcdfghjklmnpqrstvwxz`.<br />\n",
    "Digits are: `0123456789`.<br />\n",
    "Symboles are: `!@#$%^&*()_+/\\][{}\":;'`<>?.<br />\n",
    "Div 4 index Caracters are: `dhlptx`.<br />"
   ]
  },
  {
   "cell_type": "markdown",
   "metadata": {
    "id": "k6dkVaMt24xE"
   },
   "source": [
    "## Examples:"
   ]
  },
  {
   "attachments": {},
   "cell_type": "markdown",
   "metadata": {
    "id": "Zz15KBa124xF"
   },
   "source": [
    "> Some examples:\n",
    "\n",
    " - '1@#AAibddwncPhOlaOinoqa5' => 'AAOOddhlP15@#iaioabwncnq'\n",
    " - 'f15eO!?Sma$ITt23@/ieytql' => 'OIttlST1523!?$@/eaieyfmq'\n",
    " - 'YzA}Q45TTjdhbs*>lp0ouleE' => 'YAEdhlplQTT450}*>ouezjbs'"
   ]
  },
  {
   "cell_type": "markdown",
   "metadata": {
    "id": "YGG4x1mL24xF"
   },
   "source": [
    "## Solutions:"
   ]
  },
  {
   "attachments": {},
   "cell_type": "markdown",
   "metadata": {
    "id": "sA3jyTM924xF"
   },
   "source": [
    "### The solution: (optimized and the only founded)"
   ]
  },
  {
   "attachments": {},
   "cell_type": "markdown",
   "metadata": {
    "id": "Z9xwTv1s24xF"
   },
   "source": [
    "> Giving the 'optimized' solution:\n",
    "\n",
    "The obvious (and only) solution is to start using `for` or `while` loop and a `switch` block and create empty strings in which based on the criteria to order by we add the character, and concat all strings following the order."
   ]
  },
  {
   "cell_type": "code",
   "execution_count": 1,
   "metadata": {
    "id": "HfL8bG-624xG",
    "vscode": {
     "languageId": "javascript"
    }
   },
   "outputs": [],
   "source": [
    "function optimal (str) {\n",
    "    let capitalVowels = \"\";\n",
    "    let smallDiv4 = \"\";\n",
    "    let capitalContstantes = \"\";\n",
    "    let capitalDiv4 = \"\";\n",
    "    let digits = \"\";\n",
    "    let symboles = \"\";\n",
    "    let smallVowels = \"\";\n",
    "    let smallConstantes = \"\";\n",
    "\n",
    "    for (let index = 0; index < str.length; index++) {\n",
    "        switch (true) {\n",
    "            case ('AEIOUY'.includes(str[index])):\n",
    "                capitalVowels += str[index];\n",
    "                break;\n",
    "\n",
    "            case ('dhlptx'.includes(str[index])):\n",
    "                smallDiv4 += str[index];\n",
    "                break;\n",
    "\n",
    "            case ('BCDFGHJKLMNOPQRSTVWXZ'.includes(str[index])):\n",
    "                capitalContstantes += str[index];\n",
    "                break;\n",
    "\n",
    "            case ('DHLPTX'.includes(str[index])):\n",
    "                capitalDiv4 += str[index];\n",
    "                break;\n",
    "\n",
    "            case ('0123456789'.includes(str[index])):\n",
    "                digits += str[index];\n",
    "                break;\n",
    "\n",
    "            case ('!@#$%^&*()_+/\\\\][{}\":;`<>?\\''.includes(str[index])):\n",
    "                symboles += str[index];\n",
    "                break;\n",
    "\n",
    "            case ('aeiouy'.includes(str[index])):\n",
    "                smallVowels += str[index];\n",
    "                break;\n",
    "\n",
    "            case ('bcdfghjklmnpqrstvwxz'.includes(str[index])):\n",
    "                smallConstantes += str[index];\n",
    "                break;\n",
    "        }\n",
    "    }\n",
    "\n",
    "    return capitalVowels + smallDiv4 + capitalContstantes + capitalDiv4 + digits + symboles + smallVowels + smallConstantes; \n",
    "}"
   ]
  },
  {
   "cell_type": "code",
   "execution_count": 2,
   "metadata": {
    "colab": {
     "base_uri": "https://localhost:8080/"
    },
    "id": "_ku1YyY224xG",
    "outputId": "26e6f068-6d31-4f34-c560-a6f37ae4fa18",
    "vscode": {
     "languageId": "javascript"
    }
   },
   "outputs": [
    {
     "data": {
      "text/plain": [
       "15"
      ]
     },
     "execution_count": 2,
     "metadata": {},
     "output_type": "execute_result"
    }
   ],
   "source": [
    "console.log(optimal('1@#AAibddwncPhOlaOinoqa5'));"
   ]
  },
  {
   "cell_type": "code",
   "execution_count": 3,
   "metadata": {
    "colab": {
     "base_uri": "https://localhost:8080/"
    },
    "id": "k-stWaQP24xH",
    "outputId": "8ac2a206-265a-4d1c-a722-27423fc7fec0",
    "vscode": {
     "languageId": "javascript"
    }
   },
   "outputs": [
    {
     "data": {
      "text/plain": [
       "36"
      ]
     },
     "execution_count": 3,
     "metadata": {
      "tags": []
     },
     "output_type": "execute_result"
    }
   ],
   "source": [
    "console.log(optimal('f15eO!?Sma$ITt23@/ieytql'));"
   ]
  },
  {
   "cell_type": "markdown",
   "metadata": {
    "id": "PWDrurp224xK"
   },
   "source": [
    "## Testing execution time:"
   ]
  },
  {
   "attachments": {},
   "cell_type": "markdown",
   "metadata": {
    "id": "1ARsdHaB24xL"
   },
   "source": [
    "> In this part, we test the execution time of the solution:\n",
    "\n",
    " - myString = 'YzA}Q45TTjdhbs*>lp0ouleE'"
   ]
  },
  {
   "cell_type": "code",
   "execution_count": null,
   "metadata": {
    "id": "vaLrmPXM24xL",
    "vscode": {
     "languageId": "javascript"
    }
   },
   "outputs": [],
   "source": [
    "let myString = 'YzA}Q45TTjdhbs*>lp0ouleE';"
   ]
  },
  {
   "attachments": {},
   "cell_type": "markdown",
   "metadata": {
    "id": "U5EqD0ki24xM"
   },
   "source": [
    "### The (optimal) solution:"
   ]
  },
  {
   "cell_type": "code",
   "execution_count": null,
   "metadata": {
    "colab": {
     "base_uri": "https://localhost:8080/"
    },
    "id": "ZGwighTV24xM",
    "outputId": "b73fab13-9529-4696-988b-9032a123c2ff",
    "vscode": {
     "languageId": "javascript"
    }
   },
   "outputs": [],
   "source": [
    "let startTime = performance.now();\n",
    "console.log(optimal(myString));\n",
    "let endTime = performance.now();\n",
    "console.log(`it took ${endTime - startTime} milliseconds`);"
   ]
  }
 ],
 "metadata": {
  "colab": {
   "collapsed_sections": [],
   "name": "example.ipynb",
   "provenance": []
  },
  "kernelspec": {
   "display_name": "Python 3",
   "language": "python",
   "name": "python3"
  },
  "language_info": {
   "codemirror_mode": {
    "name": "ipython",
    "version": 3
   },
   "file_extension": ".py",
   "mimetype": "text/x-python",
   "name": "python",
   "nbconvert_exporter": "python",
   "pygments_lexer": "ipython3",
   "version": "3.10.7"
  },
  "vscode": {
   "interpreter": {
    "hash": "e7370f93d1d0cde622a1f8e1c04877d8463912d04d973331ad4851f04de6915a"
   }
  }
 },
 "nbformat": 4,
 "nbformat_minor": 4
}
