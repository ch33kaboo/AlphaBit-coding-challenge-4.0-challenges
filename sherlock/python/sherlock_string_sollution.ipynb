{
 "cells": [
  {
   "attachments": {},
   "cell_type": "markdown",
   "metadata": {
    "id": "MIcbohAF24w7"
   },
   "source": [
    "# Challenge: Sherlock String Challenge\n",
    "\n"
   ]
  },
  {
   "cell_type": "markdown",
   "metadata": {
    "id": "gUSwNxWM24xD"
   },
   "source": [
    "## Description:"
   ]
  },
  {
   "attachments": {},
   "cell_type": "markdown",
   "metadata": {
    "id": "viTP_3Pr24xE"
   },
   "source": [
    "a string is a sherlock string if all characters of the string appear the same number of times. It is also valid if he can remove just  character at \n",
    "index in the string, and the remaining characters will occur the same number of times.\n",
    "Given a string , determine if it is valid. If so, return YES, otherwise return NO.\n"
   ]
  },
  {
   "cell_type": "markdown",
   "metadata": {
    "id": "k6dkVaMt24xE"
   },
   "source": [
    "## Examples:"
   ]
  },
  {
   "attachments": {},
   "cell_type": "markdown",
   "metadata": {
    "id": "Zz15KBa124xF"
   },
   "source": [
    "- str=\"leo\"\n",
    "    is a sherlock string \n",
    "\n",
    "- str=\"aabc\"\n",
    "    is also a sherlock string because when we omit the letter a we got 1 occurence for \"a\" so is valid.\n",
    "\n",
    "INPUT: string  \n",
    "\n",
    "\n",
    "OUTPUT : boolean: true if the string is valid else false if not    \n"
   ]
  },
  {
   "cell_type": "markdown",
   "metadata": {
    "id": "8SsZ1hOY24xI"
   },
   "source": [
    "## The solution:"
   ]
  },
  {
   "attachments": {},
   "cell_type": "markdown",
   "metadata": {
    "id": "D6I9AdPT24xI"
   },
   "source": [
    "The previous function will go through all the integers of the arrays and add them to each other, and each time it verifies if the sum add up to the target value, an `optimized` function would check if the target is greater than the current value and does the check, otherwise it will do nothing and pass to the next iteration."
   ]
  },
  {
   "cell_type": "code",
   "execution_count": 5,
   "metadata": {
    "id": "XcqKRQ2l24xJ"
   },
   "outputs": [],
   "source": [
    "import math\n",
    "import os\n",
    "import random\n",
    "import re\n",
    "import sys\n",
    "\n",
    "# Complete the isValid function below.\n",
    "def isValid(s):\n",
    "    # Go over string and count how many times string occured\n",
    "    char_dict = {}\n",
    "    for char in s:\n",
    "        if char in char_dict:\n",
    "            char_dict[char] += 1\n",
    "        else:\n",
    "            char_dict[char] = 1\n",
    "    #initiate largest and smallest count with last char\n",
    "    min_count = char_dict[char]\n",
    "    max_count = char_dict[char]\n",
    "    # count how many times a count occured\n",
    "    count_dict = {}\n",
    "    for char, value in char_dict.items():\n",
    "        if value in count_dict:\n",
    "            count_dict[value] += 1\n",
    "        else:\n",
    "            count_dict[value] = 1\n",
    "        #also update max and min count\n",
    "        if value < min_count:\n",
    "            min_count = value\n",
    "        if value > max_count:\n",
    "            max_count = value\n",
    "    # final test:\n",
    "    if len(count_dict) == 1:\n",
    "        return 'YES'\n",
    "    elif len(count_dict) == 2:\n",
    "        if count_dict[max_count] == 1 and max_count - min_count == 1:\n",
    "            return 'YES'\n",
    "        elif count_dict[min_count] == 1 and min_count == 1:\n",
    "            return 'YES'\n",
    "    return 'NO'\n",
    "\n"
   ]
  },
  {
   "cell_type": "code",
   "execution_count": 6,
   "metadata": {
    "colab": {
     "base_uri": "https://localhost:8080/"
    },
    "id": "MuZ5GTzZ24xJ",
    "outputId": "d133bbdb-c3b9-4405-f2b6-c525e42925c2",
    "vscode": {
     "languageId": "javascript"
    }
   },
   "outputs": [
    {
     "name": "stdout",
     "output_type": "stream",
     "text": [
      "YES\n"
     ]
    }
   ],
   "source": [
    "print(isValid('abcdefghhgfedecba'))"
   ]
  },
  {
   "cell_type": "markdown",
   "metadata": {
    "id": "PWDrurp224xK"
   },
   "source": [
    "## Testing execution time:"
   ]
  },
  {
   "cell_type": "code",
   "execution_count": 10,
   "metadata": {
    "colab": {
     "base_uri": "https://localhost:8080/"
    },
    "id": "ZGwighTV24xM",
    "outputId": "b73fab13-9529-4696-988b-9032a123c2ff"
   },
   "outputs": [
    {
     "name": "stdout",
     "output_type": "stream",
     "text": [
      "YES\n",
      "--- 0.0009987354278564453 seconds ---\n"
     ]
    }
   ],
   "source": [
    "import time\n",
    "start_time = time.time()\n",
    "print(isValid('abcdefghhgfedecba'))\n",
    "print(\"--- %s seconds ---\" % (time.time() - start_time))"
   ]
  }
 ],
 "metadata": {
  "colab": {
   "collapsed_sections": [],
   "name": "example.ipynb",
   "provenance": []
  },
  "kernelspec": {
   "display_name": "Python 3",
   "language": "python",
   "name": "python3"
  },
  "language_info": {
   "codemirror_mode": {
    "name": "ipython",
    "version": 3
   },
   "file_extension": ".py",
   "mimetype": "text/x-python",
   "name": "python",
   "nbconvert_exporter": "python",
   "pygments_lexer": "ipython3",
   "version": "3.10.11"
  },
  "vscode": {
   "interpreter": {
    "hash": "e7370f93d1d0cde622a1f8e1c04877d8463912d04d973331ad4851f04de6915a"
   }
  }
 },
 "nbformat": 4,
 "nbformat_minor": 4
}
