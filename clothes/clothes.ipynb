{
 "cells": [
  {
   "attachments": {},
   "cell_type": "markdown",
   "metadata": {
    "id": "MIcbohAF24w7"
   },
   "source": [
    "# Challenge: The Armor Hunt"
   ]
  },
  {
   "attachments": {},
   "cell_type": "markdown",
   "metadata": {
    "id": "gUSwNxWM24xD"
   },
   "source": [
    "## Description:"
   ]
  },
  {
   "attachments": {},
   "cell_type": "markdown",
   "metadata": {
    "id": "viTP_3Pr24xE"
   },
   "source": [
    "Our hero, Atreus, seeks to enhance his battle prowess by acquiring new armor. He visits a renowned blacksmith, only to discover that not all armors are meant to be worn together. Atreus cannot just don a chestplate and pair it with greaves that are incompatible, for that would be a grave mistake.\n",
    "\n",
    "The blacksmith has a total of `n` armors, and `m` of these can be worn together. Each piece of armor comes with a price tag, and Atreus wishes to obtain a set of three pieces armors that match each other without breaking the budget. Can you help him find the `cheapest trio` of matching armors?\n",
    "\n",
    "- n: [3, 100]\n",
    "- m: [0, (n(n-1)/2)]\n",
    "\n"
   ]
  },
  {
   "attachments": {},
   "cell_type": "markdown",
   "metadata": {},
   "source": [
    "### Input :\n",
    "Now, let me break it down for you. The first line of this input file, you got two numbers, `n` and `m`. `n` is the `total` number of armor items in the blacksmith and `m` is the` total number of matching pairs` of armor. \n",
    "\n",
    "And then, you got another line with n integers representing the prices of the pieces in Hacksilver.\n",
    "\n",
    "\n",
    " And then, there's `m` more lines, each with two numbers ui and vi `(1 ≤ ui, vi ≤ n, ui ≠ vi)`, which represent pairs of armor items that match each other. And  there are no duplicate pairs\n",
    "\n",
    "\n",
    "### Output : \n",
    "So, after all the calculations, we need to print the amount that Atreus needs to pay . But, if there's no way for him to get three matching armor, then we  let him know by printing \"-1\"."
   ]
  },
  {
   "attachments": {},
   "cell_type": "markdown",
   "metadata": {
    "id": "k6dkVaMt24xE"
   },
   "source": [
    "## Examples:"
   ]
  },
  {
   "attachments": {},
   "cell_type": "markdown",
   "metadata": {
    "id": "Zz15KBa124xF"
   },
   "source": [
    "> Make sure the input file input.txt is in the same directory as the Python script, and that it has the same format as before\n",
    "\n",
    "input : \n",
    "```\n",
    "3 3\n",
    "1 2 3\n",
    "1 2\n",
    "2 3\n",
    "3 1\n",
    "```\n",
    "\n",
    "output : \n",
    "```\n",
    "6\n",
    "```\n",
    "\n",
    "\n"
   ]
  },
  {
   "attachments": {},
   "cell_type": "markdown",
   "metadata": {},
   "source": [
    "\n",
    "input: \n",
    "```\n",
    "3 2\n",
    "2 3 4\n",
    "2 3\n",
    "2 1\n",
    "\n",
    "```\n",
    "\n",
    "output: \n",
    "```\n",
    "-1\n",
    "```\n"
   ]
  },
  {
   "attachments": {},
   "cell_type": "markdown",
   "metadata": {
    "id": "YGG4x1mL24xF"
   },
   "source": [
    "## Solutions:"
   ]
  },
  {
   "attachments": {},
   "cell_type": "markdown",
   "metadata": {
    "id": "sA3jyTM924xF"
   },
   "source": [
    "### The stupid solution: (Unoptimized)"
   ]
  },
  {
   "attachments": {},
   "cell_type": "markdown",
   "metadata": {
    "id": "Z9xwTv1s24xF"
   },
   "source": [
    "> Giving the simple 'unoptimized' solution:\n",
    "\n",
    "The obvious (and stupid) solution `loops` through all possible sets of three clothing items, and checks if they match each other. If they do, `it calculates the total cost of buying these three items, and keeps track of the minimum cost found so far`. Note that we only need to consider sets of three clothing items that match each other, which means that we need to check all possible pairs of matching clothing items (i and j), and for each such pair, we need to find the intersection of their matching sets, which is the set of clothing items that match both i and j. We then loop through this intersection set to find the third clothing item k, and check if k matches j."
   ]
  },
  {
   "cell_type": "code",
   "execution_count": 3,
   "metadata": {
    "id": "HfL8bG-624xG"
   },
   "outputs": [
    {
     "name": "stdout",
     "output_type": "stream",
     "text": [
      "14\n"
     ]
    }
   ],
   "source": [
    "def naiive_sollution(input_file):\n",
    "    with open(input_file, 'r') as f:\n",
    "        n, m = map(int, f.readline().split())\n",
    "        if (n < 3) or ( m < 3) : return -1\n",
    "        prices = list(map(int, f.readline().split()))\n",
    "        matches = [set() for _ in range(n)]\n",
    "        for _ in range(m):\n",
    "            u, v = map(int, f.readline().split())\n",
    "            matches[u-1].add(v-1)\n",
    "            matches[v-1].add(u-1)\n",
    "    #Parsing \n",
    "    min_cost = float('inf')\n",
    "    for i in range(n):\n",
    "        for j in matches[i]:\n",
    "            for k in matches[i].intersection(matches[j]):\n",
    "                    cost = prices[i] + prices[j] + prices[k]\n",
    "                    if cost < min_cost:\n",
    "                        min_cost = cost\n",
    "\n",
    "\n",
    "    if min_cost == float('inf'):\n",
    "            return -1\n",
    "    else:\n",
    "            return str(min_cost) \n",
    "print(naiive_sollution('input.txt'))"
   ]
  },
  {
   "attachments": {},
   "cell_type": "markdown",
   "metadata": {
    "id": "8SsZ1hOY24xI"
   },
   "source": [
    "## The solution:"
   ]
  },
  {
   "attachments": {},
   "cell_type": "markdown",
   "metadata": {
    "id": "D6I9AdPT24xI"
   },
   "source": [
    "> Giving the right 'optimized' solution:\n",
    "\n",
    "The optimized solution for the problem is to first create a ``2D array`` called matching_costs to store the minimum price of a pair of clothing that match each other. ``The matching_costs[i][j] represents the matching cost between item i and item j``. If item i and item j do not match, then matching_costs[i][j] will have a value of infinity.\n",
    "\n",
    "Then we loop through all possible triples of clothing items, and check if they all match each other. If so, we calculate the sum of their prices and keep track of the minimum sum.\n",
    "\n",
    "This solution is better than the brute-force solution because it has a time complexity of O(n^3), which is much more efficient than the brute-force solution's O(n^4) time complexity. By precomputing the matching costs in the matching_costs array, ``we avoid the need to repeatedly calculate the matching costs during the loop``. This reduces the time complexity of the solution and makes it much faster for larger values of n."
   ]
  },
  {
   "cell_type": "code",
   "execution_count": 19,
   "metadata": {
    "id": "XcqKRQ2l24xJ"
   },
   "outputs": [
    {
     "name": "stdout",
     "output_type": "stream",
     "text": [
      "14\n"
     ]
    }
   ],
   "source": [
    "\n",
    "def optimized_Sollution(input_file):\n",
    "    with open(input_file, 'r') as f:\n",
    "        n, m = map(int, f.readline().split())\n",
    "        if (n < 3) or (m<3): return -1\n",
    "        prices = list(map(int, f.readline().split()))\n",
    "        matching_costs = [[float('inf') for _ in range(n)] for _ in range(n)]\n",
    "        for _ in range(m):\n",
    "            i, j = map(int, f.readline().split())\n",
    "            matching_costs[i-1][j-1] = matching_costs[j-1][i-1] = min(prices[i-1], prices[j-1])\n",
    "\n",
    "        \n",
    "    min_cost = float('inf')\n",
    "    for i in range(n):\n",
    "        for j in range(i+1, n):\n",
    "            if matching_costs[i][j] == float('inf'):\n",
    "                continue \n",
    "            for k in range(j+1, n):\n",
    "                if matching_costs[i][k] != float('inf') and matching_costs[j][k] != float('inf'):\n",
    "                    min_cost = min(min_cost, prices[i]+prices[j]+prices[k])\n",
    "\n",
    "    if min_cost == float('inf'):\n",
    "        return -1\n",
    "    else:\n",
    "        return min_cost\n",
    "print(optimized_Sollution(\"input.txt\"))"
   ]
  },
  {
   "attachments": {},
   "cell_type": "markdown",
   "metadata": {
    "id": "PWDrurp224xK"
   },
   "source": [
    "## Testing execution time:"
   ]
  },
  {
   "attachments": {},
   "cell_type": "markdown",
   "metadata": {
    "id": "HQ9I9vJg24xL"
   },
   "source": [
    "#### The stupid solution:"
   ]
  },
  {
   "cell_type": "code",
   "execution_count": 24,
   "metadata": {
    "colab": {
     "base_uri": "https://localhost:8080/"
    },
    "id": "JYjHAqpW24xL",
    "outputId": "f90374b4-feff-486e-9214-facdcb46cb42"
   },
   "outputs": [
    {
     "name": "stdout",
     "output_type": "stream",
     "text": [
      "14\n",
      "--- 0.03191494941711426 seconds ---\n"
     ]
    }
   ],
   "source": [
    "import time\n",
    "start_time = time.time()\n",
    "print(naiive_sollution(\"input.txt\"))\n",
    "print(\"--- %s seconds ---\" % (time.time() - start_time))"
   ]
  },
  {
   "attachments": {},
   "cell_type": "markdown",
   "metadata": {
    "id": "U5EqD0ki24xM"
   },
   "source": [
    "#### The Optimised solution:"
   ]
  },
  {
   "cell_type": "code",
   "execution_count": 23,
   "metadata": {
    "colab": {
     "base_uri": "https://localhost:8080/"
    },
    "id": "ZGwighTV24xM",
    "outputId": "b73fab13-9529-4696-988b-9032a123c2ff"
   },
   "outputs": [
    {
     "name": "stdout",
     "output_type": "stream",
     "text": [
      "14\n",
      "--- 0.022939205169677734 seconds ---\n"
     ]
    }
   ],
   "source": [
    "start_time = time.time()\n",
    "print(optimized_Sollution(\"input.txt\"))\n",
    "print(\"--- %s seconds ---\" % (time.time() - start_time))"
   ]
  }
 ],
 "metadata": {
  "colab": {
   "collapsed_sections": [],
   "name": "example.ipynb",
   "provenance": []
  },
  "kernelspec": {
   "display_name": "Python 3",
   "language": "python",
   "name": "python3"
  },
  "language_info": {
   "codemirror_mode": {
    "name": "ipython",
    "version": 3
   },
   "file_extension": ".py",
   "mimetype": "text/x-python",
   "name": "python",
   "nbconvert_exporter": "python",
   "pygments_lexer": "ipython3",
   "version": "3.10.11"
  },
  "vscode": {
   "interpreter": {
    "hash": "65a440aeac0c89e2af7569e0aa53b64434c4b69eb6285e2b0d174d9bca190d54"
   }
  }
 },
 "nbformat": 4,
 "nbformat_minor": 4
}
